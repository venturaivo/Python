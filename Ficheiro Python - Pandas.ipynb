{
 "cells": [
  {
   "cell_type": "markdown",
   "metadata": {},
   "source": [
    "# Pandas\n",
    "# 1. Importar a biblioteca"
   ]
  },
  {
   "cell_type": "code",
   "execution_count": 112,
   "metadata": {},
   "outputs": [],
   "source": [
    "import pandas as pd"
   ]
  },
  {
   "cell_type": "markdown",
   "metadata": {},
   "source": [
    "# 2. Criar Dataframe"
   ]
  },
  {
   "cell_type": "code",
   "execution_count": 113,
   "metadata": {},
   "outputs": [],
   "source": [
    "df = pd.DataFrame(\n",
    "    {\n",
    "        'Nome': [\n",
    "            'João Araújo',\n",
    "            'Mónica Rebelo',\n",
    "            'João Silva',\n",
    "            'Leonardo Araújo',\n",
    "            'Susana Neto'\n",
    "        ],\n",
    "        'email' : [\n",
    "            'jlparaujo@gmail.com',\n",
    "            'mrebelo@gmail.com',\n",
    "            'jbsilva@gmail.com',\n",
    "            'laraujo@yahoo.com',\n",
    "            'sneto@msn.com'\n",
    "        ],\n",
    "        'profissao' : [\n",
    "            'Formador',\n",
    "            'Gestora',\n",
    "            'Programador',\n",
    "            'Administrador Redes',\n",
    "            'Contabilidade'\n",
    "        ],\n",
    "        'idades' : [\n",
    "            40,\n",
    "            30,\n",
    "            25,\n",
    "            24,\n",
    "            29,\n",
    "        ]\n",
    "    }\n",
    ")"
   ]
  },
  {
   "cell_type": "markdown",
   "metadata": {},
   "source": [
    "## 2.1. Filtar por linha\n",
    "\n",
    "## Colocar o resultado da linha 2 até ao final, com todas as colunas"
   ]
  },
  {
   "cell_type": "code",
   "execution_count": 114,
   "metadata": {},
   "outputs": [
    {
     "data": {
      "text/html": [
       "<div>\n",
       "<style scoped>\n",
       "    .dataframe tbody tr th:only-of-type {\n",
       "        vertical-align: middle;\n",
       "    }\n",
       "\n",
       "    .dataframe tbody tr th {\n",
       "        vertical-align: top;\n",
       "    }\n",
       "\n",
       "    .dataframe thead th {\n",
       "        text-align: right;\n",
       "    }\n",
       "</style>\n",
       "<table border=\"1\" class=\"dataframe\">\n",
       "  <thead>\n",
       "    <tr style=\"text-align: right;\">\n",
       "      <th></th>\n",
       "      <th>Nome</th>\n",
       "      <th>email</th>\n",
       "      <th>profissao</th>\n",
       "      <th>idades</th>\n",
       "    </tr>\n",
       "  </thead>\n",
       "  <tbody>\n",
       "    <tr>\n",
       "      <th>2</th>\n",
       "      <td>João Silva</td>\n",
       "      <td>jbsilva@gmail.com</td>\n",
       "      <td>Programador</td>\n",
       "      <td>25</td>\n",
       "    </tr>\n",
       "    <tr>\n",
       "      <th>3</th>\n",
       "      <td>Leonardo Araújo</td>\n",
       "      <td>laraujo@yahoo.com</td>\n",
       "      <td>Administrador Redes</td>\n",
       "      <td>24</td>\n",
       "    </tr>\n",
       "    <tr>\n",
       "      <th>4</th>\n",
       "      <td>Susana Neto</td>\n",
       "      <td>sneto@msn.com</td>\n",
       "      <td>Contabilidade</td>\n",
       "      <td>29</td>\n",
       "    </tr>\n",
       "  </tbody>\n",
       "</table>\n",
       "</div>"
      ],
      "text/plain": [
       "              Nome              email            profissao  idades\n",
       "2       João Silva  jbsilva@gmail.com          Programador      25\n",
       "3  Leonardo Araújo  laraujo@yahoo.com  Administrador Redes      24\n",
       "4      Susana Neto      sneto@msn.com        Contabilidade      29"
      ]
     },
     "execution_count": 114,
     "metadata": {},
     "output_type": "execute_result"
    }
   ],
   "source": [
    "df[2:] # [] - selecionar linhas [nº da linha : até ao final da Dataframe]"
   ]
  },
  {
   "cell_type": "code",
   "execution_count": 115,
   "metadata": {},
   "outputs": [
    {
     "data": {
      "text/html": [
       "<div>\n",
       "<style scoped>\n",
       "    .dataframe tbody tr th:only-of-type {\n",
       "        vertical-align: middle;\n",
       "    }\n",
       "\n",
       "    .dataframe tbody tr th {\n",
       "        vertical-align: top;\n",
       "    }\n",
       "\n",
       "    .dataframe thead th {\n",
       "        text-align: right;\n",
       "    }\n",
       "</style>\n",
       "<table border=\"1\" class=\"dataframe\">\n",
       "  <thead>\n",
       "    <tr style=\"text-align: right;\">\n",
       "      <th></th>\n",
       "      <th>Nome</th>\n",
       "      <th>email</th>\n",
       "      <th>profissao</th>\n",
       "      <th>idades</th>\n",
       "    </tr>\n",
       "  </thead>\n",
       "  <tbody>\n",
       "    <tr>\n",
       "      <th>2</th>\n",
       "      <td>João Silva</td>\n",
       "      <td>jbsilva@gmail.com</td>\n",
       "      <td>Programador</td>\n",
       "      <td>25</td>\n",
       "    </tr>\n",
       "    <tr>\n",
       "      <th>3</th>\n",
       "      <td>Leonardo Araújo</td>\n",
       "      <td>laraujo@yahoo.com</td>\n",
       "      <td>Administrador Redes</td>\n",
       "      <td>24</td>\n",
       "    </tr>\n",
       "  </tbody>\n",
       "</table>\n",
       "</div>"
      ],
      "text/plain": [
       "              Nome              email            profissao  idades\n",
       "2       João Silva  jbsilva@gmail.com          Programador      25\n",
       "3  Leonardo Araújo  laraujo@yahoo.com  Administrador Redes      24"
      ]
     },
     "execution_count": 115,
     "metadata": {},
     "output_type": "execute_result"
    }
   ],
   "source": [
    "df[2:4] # [] - selecionar linhas [nº da linha : nº da linha exclusivo]"
   ]
  },
  {
   "cell_type": "markdown",
   "metadata": {},
   "source": [
    "## 2.2. Filtrar por linha e coluna\n",
    "\n",
    "## Colocar a linha 2 e 3 com as colunas Nome e Profissão"
   ]
  },
  {
   "cell_type": "code",
   "execution_count": 116,
   "metadata": {},
   "outputs": [
    {
     "data": {
      "text/html": [
       "<div>\n",
       "<style scoped>\n",
       "    .dataframe tbody tr th:only-of-type {\n",
       "        vertical-align: middle;\n",
       "    }\n",
       "\n",
       "    .dataframe tbody tr th {\n",
       "        vertical-align: top;\n",
       "    }\n",
       "\n",
       "    .dataframe thead th {\n",
       "        text-align: right;\n",
       "    }\n",
       "</style>\n",
       "<table border=\"1\" class=\"dataframe\">\n",
       "  <thead>\n",
       "    <tr style=\"text-align: right;\">\n",
       "      <th></th>\n",
       "      <th>Nome</th>\n",
       "      <th>profissao</th>\n",
       "    </tr>\n",
       "  </thead>\n",
       "  <tbody>\n",
       "    <tr>\n",
       "      <th>2</th>\n",
       "      <td>João Silva</td>\n",
       "      <td>Programador</td>\n",
       "    </tr>\n",
       "    <tr>\n",
       "      <th>3</th>\n",
       "      <td>Leonardo Araújo</td>\n",
       "      <td>Administrador Redes</td>\n",
       "    </tr>\n",
       "  </tbody>\n",
       "</table>\n",
       "</div>"
      ],
      "text/plain": [
       "              Nome            profissao\n",
       "2       João Silva          Programador\n",
       "3  Leonardo Araújo  Administrador Redes"
      ]
     },
     "execution_count": 116,
     "metadata": {},
     "output_type": "execute_result"
    }
   ],
   "source": [
    "df[2:4][['Nome','profissao']] # [2:4] - seleciona linha do indice 2 ao indice 4 exclusivo\n",
    "                              # [['Nome','profissao']] - seleciona as colunas Nome e profissao"
   ]
  },
  {
   "cell_type": "markdown",
   "metadata": {},
   "source": [
    "## 2.3. Filtrar por coluna"
   ]
  },
  {
   "cell_type": "code",
   "execution_count": 117,
   "metadata": {},
   "outputs": [
    {
     "data": {
      "text/html": [
       "<div>\n",
       "<style scoped>\n",
       "    .dataframe tbody tr th:only-of-type {\n",
       "        vertical-align: middle;\n",
       "    }\n",
       "\n",
       "    .dataframe tbody tr th {\n",
       "        vertical-align: top;\n",
       "    }\n",
       "\n",
       "    .dataframe thead th {\n",
       "        text-align: right;\n",
       "    }\n",
       "</style>\n",
       "<table border=\"1\" class=\"dataframe\">\n",
       "  <thead>\n",
       "    <tr style=\"text-align: right;\">\n",
       "      <th></th>\n",
       "      <th>Nome</th>\n",
       "      <th>profissao</th>\n",
       "    </tr>\n",
       "  </thead>\n",
       "  <tbody>\n",
       "    <tr>\n",
       "      <th>0</th>\n",
       "      <td>João Araújo</td>\n",
       "      <td>Formador</td>\n",
       "    </tr>\n",
       "    <tr>\n",
       "      <th>1</th>\n",
       "      <td>Mónica Rebelo</td>\n",
       "      <td>Gestora</td>\n",
       "    </tr>\n",
       "    <tr>\n",
       "      <th>2</th>\n",
       "      <td>João Silva</td>\n",
       "      <td>Programador</td>\n",
       "    </tr>\n",
       "    <tr>\n",
       "      <th>3</th>\n",
       "      <td>Leonardo Araújo</td>\n",
       "      <td>Administrador Redes</td>\n",
       "    </tr>\n",
       "    <tr>\n",
       "      <th>4</th>\n",
       "      <td>Susana Neto</td>\n",
       "      <td>Contabilidade</td>\n",
       "    </tr>\n",
       "  </tbody>\n",
       "</table>\n",
       "</div>"
      ],
      "text/plain": [
       "              Nome            profissao\n",
       "0      João Araújo             Formador\n",
       "1    Mónica Rebelo              Gestora\n",
       "2       João Silva          Programador\n",
       "3  Leonardo Araújo  Administrador Redes\n",
       "4      Susana Neto        Contabilidade"
      ]
     },
     "execution_count": 117,
     "metadata": {},
     "output_type": "execute_result"
    }
   ],
   "source": [
    "df[['Nome','profissao']]"
   ]
  },
  {
   "cell_type": "markdown",
   "metadata": {},
   "source": [
    "## 2.4. Criar uma série de dados"
   ]
  },
  {
   "cell_type": "code",
   "execution_count": 118,
   "metadata": {},
   "outputs": [
    {
     "data": {
      "text/plain": [
       "0    40\n",
       "1    30\n",
       "2    25\n",
       "3    24\n",
       "4    29\n",
       "Name: idades, dtype: int64"
      ]
     },
     "execution_count": 118,
     "metadata": {},
     "output_type": "execute_result"
    }
   ],
   "source": [
    "idades = df['idades']\n",
    "\n",
    "idades"
   ]
  },
  {
   "cell_type": "markdown",
   "metadata": {},
   "source": [
    "### 2.4.1. Obter o numero máximo da série"
   ]
  },
  {
   "cell_type": "code",
   "execution_count": 119,
   "metadata": {},
   "outputs": [
    {
     "data": {
      "text/plain": [
       "40"
      ]
     },
     "execution_count": 119,
     "metadata": {},
     "output_type": "execute_result"
    }
   ],
   "source": [
    "idades.max()"
   ]
  },
  {
   "cell_type": "code",
   "execution_count": 120,
   "metadata": {},
   "outputs": [
    {
     "data": {
      "text/plain": [
       "29.6"
      ]
     },
     "execution_count": 120,
     "metadata": {},
     "output_type": "execute_result"
    }
   ],
   "source": [
    "idades.mean()"
   ]
  },
  {
   "cell_type": "markdown",
   "metadata": {},
   "source": [
    "## 2.4.2. Obter estatistica básica da série de dados"
   ]
  },
  {
   "cell_type": "code",
   "execution_count": 121,
   "metadata": {},
   "outputs": [
    {
     "data": {
      "text/plain": [
       "count     5.000000\n",
       "mean     29.600000\n",
       "std       6.348228\n",
       "min      24.000000\n",
       "25%      25.000000\n",
       "50%      29.000000\n",
       "75%      30.000000\n",
       "max      40.000000\n",
       "Name: idades, dtype: float64"
      ]
     },
     "execution_count": 121,
     "metadata": {},
     "output_type": "execute_result"
    }
   ],
   "source": [
    "idades.describe()"
   ]
  },
  {
   "cell_type": "code",
   "execution_count": 122,
   "metadata": {},
   "outputs": [
    {
     "data": {
      "text/html": [
       "<div>\n",
       "<style scoped>\n",
       "    .dataframe tbody tr th:only-of-type {\n",
       "        vertical-align: middle;\n",
       "    }\n",
       "\n",
       "    .dataframe tbody tr th {\n",
       "        vertical-align: top;\n",
       "    }\n",
       "\n",
       "    .dataframe thead th {\n",
       "        text-align: right;\n",
       "    }\n",
       "</style>\n",
       "<table border=\"1\" class=\"dataframe\">\n",
       "  <thead>\n",
       "    <tr style=\"text-align: right;\">\n",
       "      <th></th>\n",
       "      <th>idades</th>\n",
       "    </tr>\n",
       "  </thead>\n",
       "  <tbody>\n",
       "    <tr>\n",
       "      <th>count</th>\n",
       "      <td>5.000000</td>\n",
       "    </tr>\n",
       "    <tr>\n",
       "      <th>mean</th>\n",
       "      <td>29.600000</td>\n",
       "    </tr>\n",
       "    <tr>\n",
       "      <th>std</th>\n",
       "      <td>6.348228</td>\n",
       "    </tr>\n",
       "    <tr>\n",
       "      <th>min</th>\n",
       "      <td>24.000000</td>\n",
       "    </tr>\n",
       "    <tr>\n",
       "      <th>25%</th>\n",
       "      <td>25.000000</td>\n",
       "    </tr>\n",
       "    <tr>\n",
       "      <th>50%</th>\n",
       "      <td>29.000000</td>\n",
       "    </tr>\n",
       "    <tr>\n",
       "      <th>75%</th>\n",
       "      <td>30.000000</td>\n",
       "    </tr>\n",
       "    <tr>\n",
       "      <th>max</th>\n",
       "      <td>40.000000</td>\n",
       "    </tr>\n",
       "  </tbody>\n",
       "</table>\n",
       "</div>"
      ],
      "text/plain": [
       "          idades\n",
       "count   5.000000\n",
       "mean   29.600000\n",
       "std     6.348228\n",
       "min    24.000000\n",
       "25%    25.000000\n",
       "50%    29.000000\n",
       "75%    30.000000\n",
       "max    40.000000"
      ]
     },
     "execution_count": 122,
     "metadata": {},
     "output_type": "execute_result"
    }
   ],
   "source": [
    "df.describe()"
   ]
  },
  {
   "cell_type": "markdown",
   "metadata": {},
   "source": [
    "## 2.4.3. Criar dataframe sem ligação com a orginal"
   ]
  },
  {
   "cell_type": "code",
   "execution_count": 123,
   "metadata": {},
   "outputs": [],
   "source": [
    "df1 = df.copy()"
   ]
  },
  {
   "cell_type": "markdown",
   "metadata": {},
   "source": [
    "### Alterar nome das colunas"
   ]
  },
  {
   "cell_type": "code",
   "execution_count": 124,
   "metadata": {},
   "outputs": [],
   "source": [
    "df1.rename(columns={'Nome':'PnomeUnome'},inplace=True) # inplace = True para guardar alterações na Dataframe"
   ]
  },
  {
   "cell_type": "markdown",
   "metadata": {},
   "source": [
    "### 2.4.5. Obter informação do dataframe"
   ]
  },
  {
   "cell_type": "code",
   "execution_count": 125,
   "metadata": {},
   "outputs": [
    {
     "data": {
      "text/html": [
       "<div>\n",
       "<style scoped>\n",
       "    .dataframe tbody tr th:only-of-type {\n",
       "        vertical-align: middle;\n",
       "    }\n",
       "\n",
       "    .dataframe tbody tr th {\n",
       "        vertical-align: top;\n",
       "    }\n",
       "\n",
       "    .dataframe thead th {\n",
       "        text-align: right;\n",
       "    }\n",
       "</style>\n",
       "<table border=\"1\" class=\"dataframe\">\n",
       "  <thead>\n",
       "    <tr style=\"text-align: right;\">\n",
       "      <th></th>\n",
       "      <th>PnomeUnome</th>\n",
       "      <th>email</th>\n",
       "      <th>profissao</th>\n",
       "      <th>idades</th>\n",
       "    </tr>\n",
       "  </thead>\n",
       "  <tbody>\n",
       "    <tr>\n",
       "      <th>0</th>\n",
       "      <td>João Araújo</td>\n",
       "      <td>jlparaujo@gmail.com</td>\n",
       "      <td>Formador</td>\n",
       "      <td>40</td>\n",
       "    </tr>\n",
       "    <tr>\n",
       "      <th>1</th>\n",
       "      <td>Mónica Rebelo</td>\n",
       "      <td>mrebelo@gmail.com</td>\n",
       "      <td>Gestora</td>\n",
       "      <td>30</td>\n",
       "    </tr>\n",
       "    <tr>\n",
       "      <th>2</th>\n",
       "      <td>João Silva</td>\n",
       "      <td>jbsilva@gmail.com</td>\n",
       "      <td>Programador</td>\n",
       "      <td>25</td>\n",
       "    </tr>\n",
       "    <tr>\n",
       "      <th>3</th>\n",
       "      <td>Leonardo Araújo</td>\n",
       "      <td>laraujo@yahoo.com</td>\n",
       "      <td>Administrador Redes</td>\n",
       "      <td>24</td>\n",
       "    </tr>\n",
       "    <tr>\n",
       "      <th>4</th>\n",
       "      <td>Susana Neto</td>\n",
       "      <td>sneto@msn.com</td>\n",
       "      <td>Contabilidade</td>\n",
       "      <td>29</td>\n",
       "    </tr>\n",
       "  </tbody>\n",
       "</table>\n",
       "</div>"
      ],
      "text/plain": [
       "        PnomeUnome                email            profissao  idades\n",
       "0      João Araújo  jlparaujo@gmail.com             Formador      40\n",
       "1    Mónica Rebelo    mrebelo@gmail.com              Gestora      30\n",
       "2       João Silva    jbsilva@gmail.com          Programador      25\n",
       "3  Leonardo Araújo    laraujo@yahoo.com  Administrador Redes      24\n",
       "4      Susana Neto        sneto@msn.com        Contabilidade      29"
      ]
     },
     "execution_count": 125,
     "metadata": {},
     "output_type": "execute_result"
    }
   ],
   "source": [
    "df1.head() #  Devolve as 5 primeiras entradas do dataframe, por defeito"
   ]
  },
  {
   "cell_type": "code",
   "execution_count": 126,
   "metadata": {},
   "outputs": [
    {
     "data": {
      "text/html": [
       "<div>\n",
       "<style scoped>\n",
       "    .dataframe tbody tr th:only-of-type {\n",
       "        vertical-align: middle;\n",
       "    }\n",
       "\n",
       "    .dataframe tbody tr th {\n",
       "        vertical-align: top;\n",
       "    }\n",
       "\n",
       "    .dataframe thead th {\n",
       "        text-align: right;\n",
       "    }\n",
       "</style>\n",
       "<table border=\"1\" class=\"dataframe\">\n",
       "  <thead>\n",
       "    <tr style=\"text-align: right;\">\n",
       "      <th></th>\n",
       "      <th>PnomeUnome</th>\n",
       "      <th>email</th>\n",
       "      <th>profissao</th>\n",
       "      <th>idades</th>\n",
       "    </tr>\n",
       "  </thead>\n",
       "  <tbody>\n",
       "    <tr>\n",
       "      <th>0</th>\n",
       "      <td>João Araújo</td>\n",
       "      <td>jlparaujo@gmail.com</td>\n",
       "      <td>Formador</td>\n",
       "      <td>40</td>\n",
       "    </tr>\n",
       "    <tr>\n",
       "      <th>1</th>\n",
       "      <td>Mónica Rebelo</td>\n",
       "      <td>mrebelo@gmail.com</td>\n",
       "      <td>Gestora</td>\n",
       "      <td>30</td>\n",
       "    </tr>\n",
       "    <tr>\n",
       "      <th>2</th>\n",
       "      <td>João Silva</td>\n",
       "      <td>jbsilva@gmail.com</td>\n",
       "      <td>Programador</td>\n",
       "      <td>25</td>\n",
       "    </tr>\n",
       "  </tbody>\n",
       "</table>\n",
       "</div>"
      ],
      "text/plain": [
       "      PnomeUnome                email    profissao  idades\n",
       "0    João Araújo  jlparaujo@gmail.com     Formador      40\n",
       "1  Mónica Rebelo    mrebelo@gmail.com      Gestora      30\n",
       "2     João Silva    jbsilva@gmail.com  Programador      25"
      ]
     },
     "execution_count": 126,
     "metadata": {},
     "output_type": "execute_result"
    }
   ],
   "source": [
    "df1.head(3)"
   ]
  },
  {
   "cell_type": "code",
   "execution_count": 127,
   "metadata": {},
   "outputs": [
    {
     "data": {
      "text/html": [
       "<div>\n",
       "<style scoped>\n",
       "    .dataframe tbody tr th:only-of-type {\n",
       "        vertical-align: middle;\n",
       "    }\n",
       "\n",
       "    .dataframe tbody tr th {\n",
       "        vertical-align: top;\n",
       "    }\n",
       "\n",
       "    .dataframe thead th {\n",
       "        text-align: right;\n",
       "    }\n",
       "</style>\n",
       "<table border=\"1\" class=\"dataframe\">\n",
       "  <thead>\n",
       "    <tr style=\"text-align: right;\">\n",
       "      <th></th>\n",
       "      <th>PnomeUnome</th>\n",
       "      <th>email</th>\n",
       "      <th>profissao</th>\n",
       "      <th>idades</th>\n",
       "    </tr>\n",
       "  </thead>\n",
       "  <tbody>\n",
       "    <tr>\n",
       "      <th>0</th>\n",
       "      <td>João Araújo</td>\n",
       "      <td>jlparaujo@gmail.com</td>\n",
       "      <td>Formador</td>\n",
       "      <td>40</td>\n",
       "    </tr>\n",
       "    <tr>\n",
       "      <th>1</th>\n",
       "      <td>Mónica Rebelo</td>\n",
       "      <td>mrebelo@gmail.com</td>\n",
       "      <td>Gestora</td>\n",
       "      <td>30</td>\n",
       "    </tr>\n",
       "    <tr>\n",
       "      <th>2</th>\n",
       "      <td>João Silva</td>\n",
       "      <td>jbsilva@gmail.com</td>\n",
       "      <td>Programador</td>\n",
       "      <td>25</td>\n",
       "    </tr>\n",
       "    <tr>\n",
       "      <th>3</th>\n",
       "      <td>Leonardo Araújo</td>\n",
       "      <td>laraujo@yahoo.com</td>\n",
       "      <td>Administrador Redes</td>\n",
       "      <td>24</td>\n",
       "    </tr>\n",
       "    <tr>\n",
       "      <th>4</th>\n",
       "      <td>Susana Neto</td>\n",
       "      <td>sneto@msn.com</td>\n",
       "      <td>Contabilidade</td>\n",
       "      <td>29</td>\n",
       "    </tr>\n",
       "  </tbody>\n",
       "</table>\n",
       "</div>"
      ],
      "text/plain": [
       "        PnomeUnome                email            profissao  idades\n",
       "0      João Araújo  jlparaujo@gmail.com             Formador      40\n",
       "1    Mónica Rebelo    mrebelo@gmail.com              Gestora      30\n",
       "2       João Silva    jbsilva@gmail.com          Programador      25\n",
       "3  Leonardo Araújo    laraujo@yahoo.com  Administrador Redes      24\n",
       "4      Susana Neto        sneto@msn.com        Contabilidade      29"
      ]
     },
     "execution_count": 127,
     "metadata": {},
     "output_type": "execute_result"
    }
   ],
   "source": [
    "df1.tail() # Ddevolve as 5 primeiras linhas do dataframe por defeito"
   ]
  },
  {
   "cell_type": "code",
   "execution_count": 128,
   "metadata": {},
   "outputs": [
    {
     "data": {
      "text/html": [
       "<div>\n",
       "<style scoped>\n",
       "    .dataframe tbody tr th:only-of-type {\n",
       "        vertical-align: middle;\n",
       "    }\n",
       "\n",
       "    .dataframe tbody tr th {\n",
       "        vertical-align: top;\n",
       "    }\n",
       "\n",
       "    .dataframe thead th {\n",
       "        text-align: right;\n",
       "    }\n",
       "</style>\n",
       "<table border=\"1\" class=\"dataframe\">\n",
       "  <thead>\n",
       "    <tr style=\"text-align: right;\">\n",
       "      <th></th>\n",
       "      <th>PnomeUnome</th>\n",
       "      <th>email</th>\n",
       "      <th>profissao</th>\n",
       "      <th>idades</th>\n",
       "    </tr>\n",
       "  </thead>\n",
       "  <tbody>\n",
       "    <tr>\n",
       "      <th>3</th>\n",
       "      <td>Leonardo Araújo</td>\n",
       "      <td>laraujo@yahoo.com</td>\n",
       "      <td>Administrador Redes</td>\n",
       "      <td>24</td>\n",
       "    </tr>\n",
       "    <tr>\n",
       "      <th>4</th>\n",
       "      <td>Susana Neto</td>\n",
       "      <td>sneto@msn.com</td>\n",
       "      <td>Contabilidade</td>\n",
       "      <td>29</td>\n",
       "    </tr>\n",
       "  </tbody>\n",
       "</table>\n",
       "</div>"
      ],
      "text/plain": [
       "        PnomeUnome              email            profissao  idades\n",
       "3  Leonardo Araújo  laraujo@yahoo.com  Administrador Redes      24\n",
       "4      Susana Neto      sneto@msn.com        Contabilidade      29"
      ]
     },
     "execution_count": 128,
     "metadata": {},
     "output_type": "execute_result"
    }
   ],
   "source": [
    "df1.tail(2)"
   ]
  },
  {
   "cell_type": "markdown",
   "metadata": {},
   "source": [
    "### 2.4.6. Eliminar colunas do Dataframe"
   ]
  },
  {
   "cell_type": "code",
   "execution_count": 129,
   "metadata": {},
   "outputs": [],
   "source": [
    "df1.drop(['email'],axis=1,inplace=True) # axis = 0 corresponde linhas; axis = 1 corresponde a colunas"
   ]
  },
  {
   "cell_type": "markdown",
   "metadata": {},
   "source": [
    "### 2.4.7. Eliminar linhas do Dataframe"
   ]
  },
  {
   "cell_type": "code",
   "execution_count": 130,
   "metadata": {},
   "outputs": [],
   "source": [
    "df1.drop(0,axis=0, inplace=True)"
   ]
  },
  {
   "cell_type": "code",
   "execution_count": 131,
   "metadata": {},
   "outputs": [
    {
     "data": {
      "text/html": [
       "<div>\n",
       "<style scoped>\n",
       "    .dataframe tbody tr th:only-of-type {\n",
       "        vertical-align: middle;\n",
       "    }\n",
       "\n",
       "    .dataframe tbody tr th {\n",
       "        vertical-align: top;\n",
       "    }\n",
       "\n",
       "    .dataframe thead th {\n",
       "        text-align: right;\n",
       "    }\n",
       "</style>\n",
       "<table border=\"1\" class=\"dataframe\">\n",
       "  <thead>\n",
       "    <tr style=\"text-align: right;\">\n",
       "      <th></th>\n",
       "      <th>PnomeUnome</th>\n",
       "      <th>profissao</th>\n",
       "      <th>idades</th>\n",
       "    </tr>\n",
       "  </thead>\n",
       "  <tbody>\n",
       "    <tr>\n",
       "      <th>1</th>\n",
       "      <td>Mónica Rebelo</td>\n",
       "      <td>Gestora</td>\n",
       "      <td>30</td>\n",
       "    </tr>\n",
       "  </tbody>\n",
       "</table>\n",
       "</div>"
      ],
      "text/plain": [
       "      PnomeUnome profissao  idades\n",
       "1  Mónica Rebelo   Gestora      30"
      ]
     },
     "execution_count": 131,
     "metadata": {},
     "output_type": "execute_result"
    }
   ],
   "source": [
    "df1[0:1]"
   ]
  },
  {
   "cell_type": "markdown",
   "metadata": {},
   "source": [
    "# 3. Carregar ficheiro Excel em Pandas"
   ]
  },
  {
   "cell_type": "code",
   "execution_count": 132,
   "metadata": {},
   "outputs": [],
   "source": [
    "import pandas as pd"
   ]
  },
  {
   "cell_type": "code",
   "execution_count": 133,
   "metadata": {},
   "outputs": [],
   "source": [
    "file = 'winequality.xlsx'\n",
    "\n",
    "df1 = pd.read_excel(file,'winequality')"
   ]
  },
  {
   "cell_type": "code",
   "execution_count": 134,
   "metadata": {},
   "outputs": [],
   "source": [
    "df1.rename(columns={'type' : 'tipo', 'quality':'qualidade'}, inplace = True)"
   ]
  },
  {
   "cell_type": "code",
   "execution_count": 135,
   "metadata": {},
   "outputs": [
    {
     "name": "stdout",
     "output_type": "stream",
     "text": [
      "<class 'pandas.core.frame.DataFrame'>\n",
      "RangeIndex: 6497 entries, 0 to 6496\n",
      "Data columns (total 16 columns):\n",
      " #   Column                Non-Null Count  Dtype         \n",
      "---  ------                --------------  -----         \n",
      " 0   tipo                  6497 non-null   object        \n",
      " 1   fixed_acidity         6497 non-null   float64       \n",
      " 2   volatile_acidity      6496 non-null   float64       \n",
      " 3   citric_acid           6497 non-null   float64       \n",
      " 4   residual_sugar        6496 non-null   float64       \n",
      " 5   chlorides             6496 non-null   float64       \n",
      " 6   free_sulfur_dioxide   6496 non-null   float64       \n",
      " 7   total_sulfur_dioxide  6497 non-null   float64       \n",
      " 8   density               6495 non-null   float64       \n",
      " 9   pH                    6497 non-null   float64       \n",
      " 10  sulphates             6497 non-null   float64       \n",
      " 11  alcohol               6497 non-null   float64       \n",
      " 12  X                     6497 non-null   object        \n",
      " 13  Y                     6497 non-null   object        \n",
      " 14  qualidade             6497 non-null   int64         \n",
      " 15  data                  6497 non-null   datetime64[ns]\n",
      "dtypes: datetime64[ns](1), float64(11), int64(1), object(3)\n",
      "memory usage: 812.3+ KB\n"
     ]
    }
   ],
   "source": [
    "df1.info()"
   ]
  },
  {
   "cell_type": "code",
   "execution_count": 136,
   "metadata": {},
   "outputs": [
    {
     "data": {
      "text/html": [
       "<div>\n",
       "<style scoped>\n",
       "    .dataframe tbody tr th:only-of-type {\n",
       "        vertical-align: middle;\n",
       "    }\n",
       "\n",
       "    .dataframe tbody tr th {\n",
       "        vertical-align: top;\n",
       "    }\n",
       "\n",
       "    .dataframe thead th {\n",
       "        text-align: right;\n",
       "    }\n",
       "</style>\n",
       "<table border=\"1\" class=\"dataframe\">\n",
       "  <thead>\n",
       "    <tr style=\"text-align: right;\">\n",
       "      <th></th>\n",
       "      <th>fixed_acidity</th>\n",
       "      <th>volatile_acidity</th>\n",
       "      <th>citric_acid</th>\n",
       "      <th>residual_sugar</th>\n",
       "      <th>chlorides</th>\n",
       "      <th>free_sulfur_dioxide</th>\n",
       "      <th>total_sulfur_dioxide</th>\n",
       "      <th>density</th>\n",
       "      <th>pH</th>\n",
       "      <th>sulphates</th>\n",
       "      <th>alcohol</th>\n",
       "      <th>qualidade</th>\n",
       "      <th>data</th>\n",
       "    </tr>\n",
       "  </thead>\n",
       "  <tbody>\n",
       "    <tr>\n",
       "      <th>count</th>\n",
       "      <td>6497.000000</td>\n",
       "      <td>6496.000000</td>\n",
       "      <td>6497.000000</td>\n",
       "      <td>6496.000000</td>\n",
       "      <td>6496.000000</td>\n",
       "      <td>6496.000000</td>\n",
       "      <td>6497.000000</td>\n",
       "      <td>6495.000000</td>\n",
       "      <td>6497.000000</td>\n",
       "      <td>6497.000000</td>\n",
       "      <td>6497.000000</td>\n",
       "      <td>6497.000000</td>\n",
       "      <td>6497</td>\n",
       "    </tr>\n",
       "    <tr>\n",
       "      <th>mean</th>\n",
       "      <td>7.215307</td>\n",
       "      <td>0.339641</td>\n",
       "      <td>0.318633</td>\n",
       "      <td>5.443719</td>\n",
       "      <td>0.056035</td>\n",
       "      <td>30.528787</td>\n",
       "      <td>115.744574</td>\n",
       "      <td>0.994696</td>\n",
       "      <td>3.218501</td>\n",
       "      <td>0.531268</td>\n",
       "      <td>10.491801</td>\n",
       "      <td>5.818378</td>\n",
       "      <td>2032-11-21 23:59:59.999999744</td>\n",
       "    </tr>\n",
       "    <tr>\n",
       "      <th>min</th>\n",
       "      <td>3.800000</td>\n",
       "      <td>0.080000</td>\n",
       "      <td>0.000000</td>\n",
       "      <td>0.600000</td>\n",
       "      <td>0.009000</td>\n",
       "      <td>1.000000</td>\n",
       "      <td>6.000000</td>\n",
       "      <td>0.987110</td>\n",
       "      <td>2.720000</td>\n",
       "      <td>0.220000</td>\n",
       "      <td>8.000000</td>\n",
       "      <td>3.000000</td>\n",
       "      <td>2024-01-01 00:00:00</td>\n",
       "    </tr>\n",
       "    <tr>\n",
       "      <th>25%</th>\n",
       "      <td>6.400000</td>\n",
       "      <td>0.230000</td>\n",
       "      <td>0.250000</td>\n",
       "      <td>1.800000</td>\n",
       "      <td>0.038000</td>\n",
       "      <td>17.000000</td>\n",
       "      <td>77.000000</td>\n",
       "      <td>0.992340</td>\n",
       "      <td>3.110000</td>\n",
       "      <td>0.430000</td>\n",
       "      <td>9.500000</td>\n",
       "      <td>5.000000</td>\n",
       "      <td>2028-06-12 00:00:00</td>\n",
       "    </tr>\n",
       "    <tr>\n",
       "      <th>50%</th>\n",
       "      <td>7.000000</td>\n",
       "      <td>0.290000</td>\n",
       "      <td>0.310000</td>\n",
       "      <td>3.000000</td>\n",
       "      <td>0.047000</td>\n",
       "      <td>29.000000</td>\n",
       "      <td>118.000000</td>\n",
       "      <td>0.994890</td>\n",
       "      <td>3.210000</td>\n",
       "      <td>0.510000</td>\n",
       "      <td>10.300000</td>\n",
       "      <td>6.000000</td>\n",
       "      <td>2032-11-22 00:00:00</td>\n",
       "    </tr>\n",
       "    <tr>\n",
       "      <th>75%</th>\n",
       "      <td>7.700000</td>\n",
       "      <td>0.400000</td>\n",
       "      <td>0.390000</td>\n",
       "      <td>8.100000</td>\n",
       "      <td>0.065000</td>\n",
       "      <td>41.000000</td>\n",
       "      <td>156.000000</td>\n",
       "      <td>0.996990</td>\n",
       "      <td>3.320000</td>\n",
       "      <td>0.600000</td>\n",
       "      <td>11.300000</td>\n",
       "      <td>6.000000</td>\n",
       "      <td>2037-05-04 00:00:00</td>\n",
       "    </tr>\n",
       "    <tr>\n",
       "      <th>max</th>\n",
       "      <td>15.900000</td>\n",
       "      <td>1.580000</td>\n",
       "      <td>1.660000</td>\n",
       "      <td>65.800000</td>\n",
       "      <td>0.611000</td>\n",
       "      <td>289.000000</td>\n",
       "      <td>440.000000</td>\n",
       "      <td>1.038980</td>\n",
       "      <td>4.010000</td>\n",
       "      <td>2.000000</td>\n",
       "      <td>14.900000</td>\n",
       "      <td>9.000000</td>\n",
       "      <td>2041-10-14 00:00:00</td>\n",
       "    </tr>\n",
       "    <tr>\n",
       "      <th>std</th>\n",
       "      <td>1.296434</td>\n",
       "      <td>0.164637</td>\n",
       "      <td>0.145318</td>\n",
       "      <td>4.758010</td>\n",
       "      <td>0.035036</td>\n",
       "      <td>17.748565</td>\n",
       "      <td>56.521855</td>\n",
       "      <td>0.002999</td>\n",
       "      <td>0.160787</td>\n",
       "      <td>0.148806</td>\n",
       "      <td>1.192712</td>\n",
       "      <td>0.873255</td>\n",
       "      <td>NaN</td>\n",
       "    </tr>\n",
       "  </tbody>\n",
       "</table>\n",
       "</div>"
      ],
      "text/plain": [
       "       fixed_acidity  volatile_acidity  citric_acid  residual_sugar  \\\n",
       "count    6497.000000       6496.000000  6497.000000     6496.000000   \n",
       "mean        7.215307          0.339641     0.318633        5.443719   \n",
       "min         3.800000          0.080000     0.000000        0.600000   \n",
       "25%         6.400000          0.230000     0.250000        1.800000   \n",
       "50%         7.000000          0.290000     0.310000        3.000000   \n",
       "75%         7.700000          0.400000     0.390000        8.100000   \n",
       "max        15.900000          1.580000     1.660000       65.800000   \n",
       "std         1.296434          0.164637     0.145318        4.758010   \n",
       "\n",
       "         chlorides  free_sulfur_dioxide  total_sulfur_dioxide      density  \\\n",
       "count  6496.000000          6496.000000           6497.000000  6495.000000   \n",
       "mean      0.056035            30.528787            115.744574     0.994696   \n",
       "min       0.009000             1.000000              6.000000     0.987110   \n",
       "25%       0.038000            17.000000             77.000000     0.992340   \n",
       "50%       0.047000            29.000000            118.000000     0.994890   \n",
       "75%       0.065000            41.000000            156.000000     0.996990   \n",
       "max       0.611000           289.000000            440.000000     1.038980   \n",
       "std       0.035036            17.748565             56.521855     0.002999   \n",
       "\n",
       "                pH    sulphates      alcohol    qualidade  \\\n",
       "count  6497.000000  6497.000000  6497.000000  6497.000000   \n",
       "mean      3.218501     0.531268    10.491801     5.818378   \n",
       "min       2.720000     0.220000     8.000000     3.000000   \n",
       "25%       3.110000     0.430000     9.500000     5.000000   \n",
       "50%       3.210000     0.510000    10.300000     6.000000   \n",
       "75%       3.320000     0.600000    11.300000     6.000000   \n",
       "max       4.010000     2.000000    14.900000     9.000000   \n",
       "std       0.160787     0.148806     1.192712     0.873255   \n",
       "\n",
       "                                data  \n",
       "count                           6497  \n",
       "mean   2032-11-21 23:59:59.999999744  \n",
       "min              2024-01-01 00:00:00  \n",
       "25%              2028-06-12 00:00:00  \n",
       "50%              2032-11-22 00:00:00  \n",
       "75%              2037-05-04 00:00:00  \n",
       "max              2041-10-14 00:00:00  \n",
       "std                              NaN  "
      ]
     },
     "execution_count": 136,
     "metadata": {},
     "output_type": "execute_result"
    }
   ],
   "source": [
    "df1.describe()"
   ]
  },
  {
   "cell_type": "code",
   "execution_count": 137,
   "metadata": {},
   "outputs": [
    {
     "data": {
      "text/html": [
       "<div>\n",
       "<style scoped>\n",
       "    .dataframe tbody tr th:only-of-type {\n",
       "        vertical-align: middle;\n",
       "    }\n",
       "\n",
       "    .dataframe tbody tr th {\n",
       "        vertical-align: top;\n",
       "    }\n",
       "\n",
       "    .dataframe thead th {\n",
       "        text-align: right;\n",
       "    }\n",
       "</style>\n",
       "<table border=\"1\" class=\"dataframe\">\n",
       "  <thead>\n",
       "    <tr style=\"text-align: right;\">\n",
       "      <th></th>\n",
       "      <th>pH</th>\n",
       "      <th>alcohol</th>\n",
       "      <th>qualidade</th>\n",
       "    </tr>\n",
       "  </thead>\n",
       "  <tbody>\n",
       "    <tr>\n",
       "      <th>count</th>\n",
       "      <td>6497.000000</td>\n",
       "      <td>6497.000000</td>\n",
       "      <td>6497.000000</td>\n",
       "    </tr>\n",
       "    <tr>\n",
       "      <th>mean</th>\n",
       "      <td>3.218501</td>\n",
       "      <td>10.491801</td>\n",
       "      <td>5.818378</td>\n",
       "    </tr>\n",
       "    <tr>\n",
       "      <th>std</th>\n",
       "      <td>0.160787</td>\n",
       "      <td>1.192712</td>\n",
       "      <td>0.873255</td>\n",
       "    </tr>\n",
       "    <tr>\n",
       "      <th>min</th>\n",
       "      <td>2.720000</td>\n",
       "      <td>8.000000</td>\n",
       "      <td>3.000000</td>\n",
       "    </tr>\n",
       "    <tr>\n",
       "      <th>25%</th>\n",
       "      <td>3.110000</td>\n",
       "      <td>9.500000</td>\n",
       "      <td>5.000000</td>\n",
       "    </tr>\n",
       "    <tr>\n",
       "      <th>50%</th>\n",
       "      <td>3.210000</td>\n",
       "      <td>10.300000</td>\n",
       "      <td>6.000000</td>\n",
       "    </tr>\n",
       "    <tr>\n",
       "      <th>75%</th>\n",
       "      <td>3.320000</td>\n",
       "      <td>11.300000</td>\n",
       "      <td>6.000000</td>\n",
       "    </tr>\n",
       "    <tr>\n",
       "      <th>max</th>\n",
       "      <td>4.010000</td>\n",
       "      <td>14.900000</td>\n",
       "      <td>9.000000</td>\n",
       "    </tr>\n",
       "  </tbody>\n",
       "</table>\n",
       "</div>"
      ],
      "text/plain": [
       "                pH      alcohol    qualidade\n",
       "count  6497.000000  6497.000000  6497.000000\n",
       "mean      3.218501    10.491801     5.818378\n",
       "std       0.160787     1.192712     0.873255\n",
       "min       2.720000     8.000000     3.000000\n",
       "25%       3.110000     9.500000     5.000000\n",
       "50%       3.210000    10.300000     6.000000\n",
       "75%       3.320000    11.300000     6.000000\n",
       "max       4.010000    14.900000     9.000000"
      ]
     },
     "execution_count": 137,
     "metadata": {},
     "output_type": "execute_result"
    }
   ],
   "source": [
    "df1[['pH','alcohol','qualidade']].describe()"
   ]
  },
  {
   "cell_type": "code",
   "execution_count": 138,
   "metadata": {},
   "outputs": [
    {
     "data": {
      "text/html": [
       "<div>\n",
       "<style scoped>\n",
       "    .dataframe tbody tr th:only-of-type {\n",
       "        vertical-align: middle;\n",
       "    }\n",
       "\n",
       "    .dataframe tbody tr th {\n",
       "        vertical-align: top;\n",
       "    }\n",
       "\n",
       "    .dataframe thead th {\n",
       "        text-align: right;\n",
       "    }\n",
       "</style>\n",
       "<table border=\"1\" class=\"dataframe\">\n",
       "  <thead>\n",
       "    <tr style=\"text-align: right;\">\n",
       "      <th></th>\n",
       "      <th>tipo</th>\n",
       "      <th>fixed_acidity</th>\n",
       "      <th>volatile_acidity</th>\n",
       "      <th>citric_acid</th>\n",
       "      <th>residual_sugar</th>\n",
       "      <th>chlorides</th>\n",
       "      <th>free_sulfur_dioxide</th>\n",
       "      <th>total_sulfur_dioxide</th>\n",
       "      <th>density</th>\n",
       "      <th>pH</th>\n",
       "      <th>sulphates</th>\n",
       "      <th>alcohol</th>\n",
       "      <th>X</th>\n",
       "      <th>Y</th>\n",
       "      <th>qualidade</th>\n",
       "      <th>data</th>\n",
       "    </tr>\n",
       "  </thead>\n",
       "  <tbody>\n",
       "    <tr>\n",
       "      <th>0</th>\n",
       "      <td>red</td>\n",
       "      <td>7.4</td>\n",
       "      <td>0.700</td>\n",
       "      <td>0.00</td>\n",
       "      <td>1.9</td>\n",
       "      <td>0.076</td>\n",
       "      <td>11.0</td>\n",
       "      <td>34.0</td>\n",
       "      <td>0.99780</td>\n",
       "      <td>3.51</td>\n",
       "      <td>0.56</td>\n",
       "      <td>9.4</td>\n",
       "      <td>-5133.03706454214</td>\n",
       "      <td>274269.661219616</td>\n",
       "      <td>5</td>\n",
       "      <td>2024-01-01</td>\n",
       "    </tr>\n",
       "    <tr>\n",
       "      <th>100</th>\n",
       "      <td>red</td>\n",
       "      <td>8.3</td>\n",
       "      <td>0.610</td>\n",
       "      <td>0.30</td>\n",
       "      <td>2.1</td>\n",
       "      <td>0.084</td>\n",
       "      <td>11.0</td>\n",
       "      <td>50.0</td>\n",
       "      <td>0.99720</td>\n",
       "      <td>3.40</td>\n",
       "      <td>0.61</td>\n",
       "      <td>10.2</td>\n",
       "      <td>19628.5967547441</td>\n",
       "      <td>203427.65587794</td>\n",
       "      <td>6</td>\n",
       "      <td>2024-04-10</td>\n",
       "    </tr>\n",
       "    <tr>\n",
       "      <th>200</th>\n",
       "      <td>red</td>\n",
       "      <td>9.6</td>\n",
       "      <td>0.320</td>\n",
       "      <td>0.47</td>\n",
       "      <td>1.4</td>\n",
       "      <td>0.056</td>\n",
       "      <td>9.0</td>\n",
       "      <td>24.0</td>\n",
       "      <td>0.99695</td>\n",
       "      <td>3.22</td>\n",
       "      <td>0.82</td>\n",
       "      <td>10.3</td>\n",
       "      <td>-23561.7402531435</td>\n",
       "      <td>202474.470127473</td>\n",
       "      <td>7</td>\n",
       "      <td>2024-07-19</td>\n",
       "    </tr>\n",
       "    <tr>\n",
       "      <th>300</th>\n",
       "      <td>red</td>\n",
       "      <td>7.5</td>\n",
       "      <td>0.530</td>\n",
       "      <td>0.06</td>\n",
       "      <td>2.6</td>\n",
       "      <td>0.086</td>\n",
       "      <td>20.0</td>\n",
       "      <td>44.0</td>\n",
       "      <td>0.99650</td>\n",
       "      <td>3.38</td>\n",
       "      <td>0.59</td>\n",
       "      <td>10.7</td>\n",
       "      <td>-35248.5476346988</td>\n",
       "      <td>227497.230454155</td>\n",
       "      <td>6</td>\n",
       "      <td>2024-10-27</td>\n",
       "    </tr>\n",
       "    <tr>\n",
       "      <th>400</th>\n",
       "      <td>red</td>\n",
       "      <td>6.6</td>\n",
       "      <td>0.735</td>\n",
       "      <td>0.02</td>\n",
       "      <td>7.9</td>\n",
       "      <td>0.122</td>\n",
       "      <td>68.0</td>\n",
       "      <td>124.0</td>\n",
       "      <td>0.99940</td>\n",
       "      <td>3.47</td>\n",
       "      <td>0.53</td>\n",
       "      <td>9.9</td>\n",
       "      <td>-10952.5585856014</td>\n",
       "      <td>271086.411221765</td>\n",
       "      <td>5</td>\n",
       "      <td>2025-02-04</td>\n",
       "    </tr>\n",
       "    <tr>\n",
       "      <th>...</th>\n",
       "      <td>...</td>\n",
       "      <td>...</td>\n",
       "      <td>...</td>\n",
       "      <td>...</td>\n",
       "      <td>...</td>\n",
       "      <td>...</td>\n",
       "      <td>...</td>\n",
       "      <td>...</td>\n",
       "      <td>...</td>\n",
       "      <td>...</td>\n",
       "      <td>...</td>\n",
       "      <td>...</td>\n",
       "      <td>...</td>\n",
       "      <td>...</td>\n",
       "      <td>...</td>\n",
       "      <td>...</td>\n",
       "    </tr>\n",
       "    <tr>\n",
       "      <th>6000</th>\n",
       "      <td>white</td>\n",
       "      <td>7.1</td>\n",
       "      <td>0.380</td>\n",
       "      <td>0.29</td>\n",
       "      <td>13.6</td>\n",
       "      <td>0.041</td>\n",
       "      <td>30.0</td>\n",
       "      <td>137.0</td>\n",
       "      <td>0.99461</td>\n",
       "      <td>3.02</td>\n",
       "      <td>0.96</td>\n",
       "      <td>12.1</td>\n",
       "      <td>-19359.3643889866</td>\n",
       "      <td>224965.846204363</td>\n",
       "      <td>6</td>\n",
       "      <td>2040-06-05</td>\n",
       "    </tr>\n",
       "    <tr>\n",
       "      <th>6100</th>\n",
       "      <td>white</td>\n",
       "      <td>6.6</td>\n",
       "      <td>0.540</td>\n",
       "      <td>0.21</td>\n",
       "      <td>16.3</td>\n",
       "      <td>0.055</td>\n",
       "      <td>41.0</td>\n",
       "      <td>182.0</td>\n",
       "      <td>0.99860</td>\n",
       "      <td>3.35</td>\n",
       "      <td>0.54</td>\n",
       "      <td>10.4</td>\n",
       "      <td>-29419.5615015206</td>\n",
       "      <td>189507.793116957</td>\n",
       "      <td>6</td>\n",
       "      <td>2040-09-13</td>\n",
       "    </tr>\n",
       "    <tr>\n",
       "      <th>6200</th>\n",
       "      <td>white</td>\n",
       "      <td>6.9</td>\n",
       "      <td>0.230</td>\n",
       "      <td>0.35</td>\n",
       "      <td>6.9</td>\n",
       "      <td>0.030</td>\n",
       "      <td>45.0</td>\n",
       "      <td>116.0</td>\n",
       "      <td>0.99244</td>\n",
       "      <td>2.80</td>\n",
       "      <td>0.54</td>\n",
       "      <td>11.0</td>\n",
       "      <td>-44305.9533816181</td>\n",
       "      <td>228335.30556893</td>\n",
       "      <td>6</td>\n",
       "      <td>2040-12-22</td>\n",
       "    </tr>\n",
       "    <tr>\n",
       "      <th>6300</th>\n",
       "      <td>white</td>\n",
       "      <td>6.4</td>\n",
       "      <td>0.690</td>\n",
       "      <td>0.09</td>\n",
       "      <td>7.6</td>\n",
       "      <td>0.044</td>\n",
       "      <td>34.0</td>\n",
       "      <td>144.0</td>\n",
       "      <td>0.99480</td>\n",
       "      <td>3.26</td>\n",
       "      <td>0.38</td>\n",
       "      <td>10.1</td>\n",
       "      <td>-15781.2147455067</td>\n",
       "      <td>219390.333943585</td>\n",
       "      <td>6</td>\n",
       "      <td>2041-04-01</td>\n",
       "    </tr>\n",
       "    <tr>\n",
       "      <th>6400</th>\n",
       "      <td>white</td>\n",
       "      <td>6.4</td>\n",
       "      <td>0.105</td>\n",
       "      <td>0.29</td>\n",
       "      <td>1.1</td>\n",
       "      <td>0.035</td>\n",
       "      <td>44.0</td>\n",
       "      <td>140.0</td>\n",
       "      <td>0.99142</td>\n",
       "      <td>3.17</td>\n",
       "      <td>0.55</td>\n",
       "      <td>10.7</td>\n",
       "      <td>-9308.08050841541</td>\n",
       "      <td>202612.398501355</td>\n",
       "      <td>7</td>\n",
       "      <td>2041-07-10</td>\n",
       "    </tr>\n",
       "  </tbody>\n",
       "</table>\n",
       "<p>65 rows × 16 columns</p>\n",
       "</div>"
      ],
      "text/plain": [
       "       tipo  fixed_acidity  volatile_acidity  citric_acid  residual_sugar  \\\n",
       "0       red            7.4             0.700         0.00             1.9   \n",
       "100     red            8.3             0.610         0.30             2.1   \n",
       "200     red            9.6             0.320         0.47             1.4   \n",
       "300     red            7.5             0.530         0.06             2.6   \n",
       "400     red            6.6             0.735         0.02             7.9   \n",
       "...     ...            ...               ...          ...             ...   \n",
       "6000  white            7.1             0.380         0.29            13.6   \n",
       "6100  white            6.6             0.540         0.21            16.3   \n",
       "6200  white            6.9             0.230         0.35             6.9   \n",
       "6300  white            6.4             0.690         0.09             7.6   \n",
       "6400  white            6.4             0.105         0.29             1.1   \n",
       "\n",
       "      chlorides  free_sulfur_dioxide  total_sulfur_dioxide  density    pH  \\\n",
       "0         0.076                 11.0                  34.0  0.99780  3.51   \n",
       "100       0.084                 11.0                  50.0  0.99720  3.40   \n",
       "200       0.056                  9.0                  24.0  0.99695  3.22   \n",
       "300       0.086                 20.0                  44.0  0.99650  3.38   \n",
       "400       0.122                 68.0                 124.0  0.99940  3.47   \n",
       "...         ...                  ...                   ...      ...   ...   \n",
       "6000      0.041                 30.0                 137.0  0.99461  3.02   \n",
       "6100      0.055                 41.0                 182.0  0.99860  3.35   \n",
       "6200      0.030                 45.0                 116.0  0.99244  2.80   \n",
       "6300      0.044                 34.0                 144.0  0.99480  3.26   \n",
       "6400      0.035                 44.0                 140.0  0.99142  3.17   \n",
       "\n",
       "      sulphates  alcohol                  X                 Y  qualidade  \\\n",
       "0          0.56      9.4  -5133.03706454214  274269.661219616          5   \n",
       "100        0.61     10.2   19628.5967547441   203427.65587794          6   \n",
       "200        0.82     10.3  -23561.7402531435  202474.470127473          7   \n",
       "300        0.59     10.7  -35248.5476346988  227497.230454155          6   \n",
       "400        0.53      9.9  -10952.5585856014  271086.411221765          5   \n",
       "...         ...      ...                ...               ...        ...   \n",
       "6000       0.96     12.1  -19359.3643889866  224965.846204363          6   \n",
       "6100       0.54     10.4  -29419.5615015206  189507.793116957          6   \n",
       "6200       0.54     11.0  -44305.9533816181   228335.30556893          6   \n",
       "6300       0.38     10.1  -15781.2147455067  219390.333943585          6   \n",
       "6400       0.55     10.7  -9308.08050841541  202612.398501355          7   \n",
       "\n",
       "           data  \n",
       "0    2024-01-01  \n",
       "100  2024-04-10  \n",
       "200  2024-07-19  \n",
       "300  2024-10-27  \n",
       "400  2025-02-04  \n",
       "...         ...  \n",
       "6000 2040-06-05  \n",
       "6100 2040-09-13  \n",
       "6200 2040-12-22  \n",
       "6300 2041-04-01  \n",
       "6400 2041-07-10  \n",
       "\n",
       "[65 rows x 16 columns]"
      ]
     },
     "execution_count": 138,
     "metadata": {},
     "output_type": "execute_result"
    }
   ],
   "source": [
    "df1[0::100] # Selecionar um intervalo de amostragem da Dataframe(Também é válido para coleções de dados como listas, tuplos,..)"
   ]
  },
  {
   "cell_type": "markdown",
   "metadata": {},
   "source": [
    "## Selecionar colunas"
   ]
  },
  {
   "cell_type": "code",
   "execution_count": 139,
   "metadata": {},
   "outputs": [],
   "source": [
    "df1_aux = df1[['pH','qualidade']]"
   ]
  },
  {
   "cell_type": "code",
   "execution_count": 140,
   "metadata": {},
   "outputs": [
    {
     "data": {
      "text/html": [
       "<div>\n",
       "<style scoped>\n",
       "    .dataframe tbody tr th:only-of-type {\n",
       "        vertical-align: middle;\n",
       "    }\n",
       "\n",
       "    .dataframe tbody tr th {\n",
       "        vertical-align: top;\n",
       "    }\n",
       "\n",
       "    .dataframe thead th {\n",
       "        text-align: right;\n",
       "    }\n",
       "</style>\n",
       "<table border=\"1\" class=\"dataframe\">\n",
       "  <thead>\n",
       "    <tr style=\"text-align: right;\">\n",
       "      <th></th>\n",
       "      <th>pH</th>\n",
       "      <th>qualidade</th>\n",
       "    </tr>\n",
       "  </thead>\n",
       "  <tbody>\n",
       "    <tr>\n",
       "      <th>0</th>\n",
       "      <td>17.55</td>\n",
       "      <td>25</td>\n",
       "    </tr>\n",
       "    <tr>\n",
       "      <th>1</th>\n",
       "      <td>16.00</td>\n",
       "      <td>25</td>\n",
       "    </tr>\n",
       "    <tr>\n",
       "      <th>2</th>\n",
       "      <td>16.30</td>\n",
       "      <td>25</td>\n",
       "    </tr>\n",
       "    <tr>\n",
       "      <th>3</th>\n",
       "      <td>15.80</td>\n",
       "      <td>30</td>\n",
       "    </tr>\n",
       "    <tr>\n",
       "      <th>4</th>\n",
       "      <td>17.55</td>\n",
       "      <td>25</td>\n",
       "    </tr>\n",
       "    <tr>\n",
       "      <th>...</th>\n",
       "      <td>...</td>\n",
       "      <td>...</td>\n",
       "    </tr>\n",
       "    <tr>\n",
       "      <th>6492</th>\n",
       "      <td>16.35</td>\n",
       "      <td>30</td>\n",
       "    </tr>\n",
       "    <tr>\n",
       "      <th>6493</th>\n",
       "      <td>15.75</td>\n",
       "      <td>25</td>\n",
       "    </tr>\n",
       "    <tr>\n",
       "      <th>6494</th>\n",
       "      <td>14.95</td>\n",
       "      <td>30</td>\n",
       "    </tr>\n",
       "    <tr>\n",
       "      <th>6495</th>\n",
       "      <td>16.70</td>\n",
       "      <td>35</td>\n",
       "    </tr>\n",
       "    <tr>\n",
       "      <th>6496</th>\n",
       "      <td>16.30</td>\n",
       "      <td>30</td>\n",
       "    </tr>\n",
       "  </tbody>\n",
       "</table>\n",
       "<p>6497 rows × 2 columns</p>\n",
       "</div>"
      ],
      "text/plain": [
       "         pH  qualidade\n",
       "0     17.55         25\n",
       "1     16.00         25\n",
       "2     16.30         25\n",
       "3     15.80         30\n",
       "4     17.55         25\n",
       "...     ...        ...\n",
       "6492  16.35         30\n",
       "6493  15.75         25\n",
       "6494  14.95         30\n",
       "6495  16.70         35\n",
       "6496  16.30         30\n",
       "\n",
       "[6497 rows x 2 columns]"
      ]
     },
     "execution_count": 140,
     "metadata": {},
     "output_type": "execute_result"
    }
   ],
   "source": [
    "def calcular(df):\n",
    "    res = df * 5\n",
    "    return res\n",
    "\n",
    "calcular(df1_aux)"
   ]
  },
  {
   "cell_type": "code",
   "execution_count": 141,
   "metadata": {},
   "outputs": [],
   "source": [
    "def calcular(df):\n",
    "    res = df * 5\n",
    "    return res\n",
    "\n",
    "while True:\n",
    "    user_in = input('Introduza o nome da coluna da Dataframe para realizar calculo\\nColoque X para sair.')\n",
    "    if user_in.upper() == 'X':\n",
    "        break\n",
    "    else:\n",
    "        res = calcular(df1[[user_in]])\n",
    "        print(res)"
   ]
  },
  {
   "cell_type": "markdown",
   "metadata": {},
   "source": [
    "## 3.5. Filtrar por linha e coluna"
   ]
  },
  {
   "cell_type": "code",
   "execution_count": 142,
   "metadata": {},
   "outputs": [],
   "source": [
    "df2 = df1[(df1['tipo'] == 'red')] # Condição de filtragem de linhas em função do valor da coluna"
   ]
  },
  {
   "cell_type": "code",
   "execution_count": 143,
   "metadata": {},
   "outputs": [],
   "source": [
    "# Operador AND\n",
    "\n",
    "df3 = df1[(df1['tipo'] == 'white') & (df1['alcohol'] > 10)]"
   ]
  },
  {
   "cell_type": "markdown",
   "metadata": {},
   "source": [
    "## 3.6. Filtragem por query"
   ]
  },
  {
   "cell_type": "code",
   "execution_count": 144,
   "metadata": {},
   "outputs": [],
   "source": [
    "df4 = df1.query(\"alcohol > 12 & tipo == 'red'\")"
   ]
  },
  {
   "cell_type": "markdown",
   "metadata": {},
   "source": [
    "## 3.7. Remover colunas"
   ]
  },
  {
   "cell_type": "code",
   "execution_count": 145,
   "metadata": {},
   "outputs": [],
   "source": [
    "df1.drop('chlorides',axis=1, inplace=True) # axis = 0 -> linhas; axis = 1 -> colunas"
   ]
  },
  {
   "cell_type": "markdown",
   "metadata": {},
   "source": [
    "## 3.8. Remover linhas"
   ]
  },
  {
   "cell_type": "code",
   "execution_count": 146,
   "metadata": {},
   "outputs": [],
   "source": [
    "df1.drop(0,axis=0, inplace=True) # axis = 0 -> linhas; axis = 1 -> colunas"
   ]
  },
  {
   "cell_type": "markdown",
   "metadata": {},
   "source": [
    "## 3.9. Acrescentar colunas e efetuar cálculos"
   ]
  },
  {
   "cell_type": "code",
   "execution_count": 147,
   "metadata": {},
   "outputs": [],
   "source": [
    "df1['RATIO'] = df1['alcohol'] / df1['qualidade']"
   ]
  },
  {
   "cell_type": "code",
   "execution_count": 157,
   "metadata": {},
   "outputs": [],
   "source": [
    "date = pd.to_datetime('02/01/2024', dayfirst=True)"
   ]
  },
  {
   "cell_type": "code",
   "execution_count": 158,
   "metadata": {},
   "outputs": [
    {
     "data": {
      "text/plain": [
       "1"
      ]
     },
     "execution_count": 158,
     "metadata": {},
     "output_type": "execute_result"
    }
   ],
   "source": [
    "date.day_of_week"
   ]
  },
  {
   "cell_type": "code",
   "execution_count": 161,
   "metadata": {},
   "outputs": [],
   "source": [
    "import datetime as dt\n",
    "\n",
    "a = dt.datetime(2024,3,22)"
   ]
  },
  {
   "cell_type": "markdown",
   "metadata": {},
   "source": [
    "## 3.10. Acrescentar uma nova coluna numa posição especifica"
   ]
  },
  {
   "cell_type": "code",
   "execution_count": 162,
   "metadata": {},
   "outputs": [],
   "source": [
    "df1.insert(loc = 3, column='RATIO2',value=df1['pH'] / df1['qualidade']) # NaN"
   ]
  },
  {
   "cell_type": "code",
   "execution_count": 163,
   "metadata": {},
   "outputs": [],
   "source": [
    "df1.insert(loc=4, column='RATIO4', value = df1['density'] / df1['qualidade'], allow_duplicates=True)"
   ]
  },
  {
   "cell_type": "markdown",
   "metadata": {},
   "source": [
    "## 3.11. Criação de coluna com condições"
   ]
  },
  {
   "cell_type": "code",
   "execution_count": 164,
   "metadata": {},
   "outputs": [],
   "source": [
    "import numpy as np\n",
    "\n",
    "df1['RATIO5'] = np.where(df1['qualidade'] > 5, df1['qualidade'], np.nan) # NaN - Not a Number - não tem tipo nem valor"
   ]
  },
  {
   "cell_type": "markdown",
   "metadata": {},
   "source": [
    "## 3.12. Escrever para um ficheiro excel (xlsx)"
   ]
  },
  {
   "cell_type": "code",
   "execution_count": 165,
   "metadata": {},
   "outputs": [],
   "source": [
    "df1.to_excel('wine_filter.xlsx')"
   ]
  },
  {
   "cell_type": "markdown",
   "metadata": {},
   "source": [
    "## 3.13. Correlação"
   ]
  },
  {
   "cell_type": "code",
   "execution_count": 168,
   "metadata": {},
   "outputs": [],
   "source": [
    "df5 = df1.copy()\n",
    "\n",
    "df5.drop('tipo',axis=1,inplace=True)"
   ]
  },
  {
   "cell_type": "code",
   "execution_count": 170,
   "metadata": {},
   "outputs": [],
   "source": [
    "df5.drop(['X','Y'],axis=1,inplace=True)\n"
   ]
  },
  {
   "cell_type": "code",
   "execution_count": 172,
   "metadata": {},
   "outputs": [],
   "source": [
    "df5_corr = df5.corr()"
   ]
  },
  {
   "cell_type": "code",
   "execution_count": 173,
   "metadata": {},
   "outputs": [
    {
     "data": {
      "text/html": [
       "<div>\n",
       "<style scoped>\n",
       "    .dataframe tbody tr th:only-of-type {\n",
       "        vertical-align: middle;\n",
       "    }\n",
       "\n",
       "    .dataframe tbody tr th {\n",
       "        vertical-align: top;\n",
       "    }\n",
       "\n",
       "    .dataframe thead th {\n",
       "        text-align: right;\n",
       "    }\n",
       "</style>\n",
       "<table border=\"1\" class=\"dataframe\">\n",
       "  <thead>\n",
       "    <tr style=\"text-align: right;\">\n",
       "      <th></th>\n",
       "      <th>alcohol</th>\n",
       "      <th>qualidade</th>\n",
       "      <th>pH</th>\n",
       "    </tr>\n",
       "  </thead>\n",
       "  <tbody>\n",
       "    <tr>\n",
       "      <th>alcohol</th>\n",
       "      <td>1.000000</td>\n",
       "      <td>0.444245</td>\n",
       "      <td>0.121543</td>\n",
       "    </tr>\n",
       "    <tr>\n",
       "      <th>qualidade</th>\n",
       "      <td>0.444245</td>\n",
       "      <td>1.000000</td>\n",
       "      <td>0.019774</td>\n",
       "    </tr>\n",
       "    <tr>\n",
       "      <th>pH</th>\n",
       "      <td>0.121543</td>\n",
       "      <td>0.019774</td>\n",
       "      <td>1.000000</td>\n",
       "    </tr>\n",
       "  </tbody>\n",
       "</table>\n",
       "</div>"
      ],
      "text/plain": [
       "            alcohol  qualidade        pH\n",
       "alcohol    1.000000   0.444245  0.121543\n",
       "qualidade  0.444245   1.000000  0.019774\n",
       "pH         0.121543   0.019774  1.000000"
      ]
     },
     "execution_count": 173,
     "metadata": {},
     "output_type": "execute_result"
    }
   ],
   "source": [
    "df5[['alcohol','qualidade','pH']].corr()"
   ]
  },
  {
   "cell_type": "code",
   "execution_count": 174,
   "metadata": {},
   "outputs": [
    {
     "name": "stdout",
     "output_type": "stream",
     "text": [
      "<class 'pandas.core.frame.DataFrame'>\n",
      "RangeIndex: 6496 entries, 1 to 6496\n",
      "Data columns (total 19 columns):\n",
      " #   Column                Non-Null Count  Dtype         \n",
      "---  ------                --------------  -----         \n",
      " 0   tipo                  6496 non-null   object        \n",
      " 1   fixed_acidity         6496 non-null   float64       \n",
      " 2   volatile_acidity      6495 non-null   float64       \n",
      " 3   RATIO2                6496 non-null   float64       \n",
      " 4   RATIO4                6494 non-null   float64       \n",
      " 5   citric_acid           6496 non-null   float64       \n",
      " 6   residual_sugar        6495 non-null   float64       \n",
      " 7   free_sulfur_dioxide   6495 non-null   float64       \n",
      " 8   total_sulfur_dioxide  6496 non-null   float64       \n",
      " 9   density               6494 non-null   float64       \n",
      " 10  pH                    6496 non-null   float64       \n",
      " 11  sulphates             6496 non-null   float64       \n",
      " 12  alcohol               6496 non-null   float64       \n",
      " 13  X                     6496 non-null   object        \n",
      " 14  Y                     6496 non-null   object        \n",
      " 15  qualidade             6496 non-null   int64         \n",
      " 16  data                  6496 non-null   datetime64[ns]\n",
      " 17  RATIO                 6496 non-null   float64       \n",
      " 18  RATIO5                4113 non-null   float64       \n",
      "dtypes: datetime64[ns](1), float64(14), int64(1), object(3)\n",
      "memory usage: 964.4+ KB\n"
     ]
    }
   ],
   "source": [
    "df1.info()"
   ]
  },
  {
   "cell_type": "code",
   "execution_count": 176,
   "metadata": {},
   "outputs": [
    {
     "data": {
      "text/plain": [
       "tipo                       0\n",
       "fixed_acidity              0\n",
       "volatile_acidity           1\n",
       "RATIO2                     0\n",
       "RATIO4                     2\n",
       "citric_acid                0\n",
       "residual_sugar             1\n",
       "free_sulfur_dioxide        1\n",
       "total_sulfur_dioxide       0\n",
       "density                    2\n",
       "pH                         0\n",
       "sulphates                  0\n",
       "alcohol                    0\n",
       "X                          0\n",
       "Y                          0\n",
       "qualidade                  0\n",
       "data                       0\n",
       "RATIO                      0\n",
       "RATIO5                  2383\n",
       "dtype: int64"
      ]
     },
     "execution_count": 176,
     "metadata": {},
     "output_type": "execute_result"
    }
   ],
   "source": [
    "df1.isnull().sum()"
   ]
  },
  {
   "cell_type": "code",
   "execution_count": 177,
   "metadata": {},
   "outputs": [
    {
     "data": {
      "text/plain": [
       "tipo                       0\n",
       "fixed_acidity              0\n",
       "volatile_acidity           1\n",
       "RATIO2                     0\n",
       "RATIO4                     2\n",
       "citric_acid                0\n",
       "residual_sugar             1\n",
       "free_sulfur_dioxide        1\n",
       "total_sulfur_dioxide       0\n",
       "density                    2\n",
       "pH                         0\n",
       "sulphates                  0\n",
       "alcohol                    0\n",
       "X                          0\n",
       "Y                          0\n",
       "qualidade                  0\n",
       "data                       0\n",
       "RATIO                      0\n",
       "RATIO5                  2383\n",
       "dtype: int64"
      ]
     },
     "execution_count": 177,
     "metadata": {},
     "output_type": "execute_result"
    }
   ],
   "source": [
    "df1.isna().sum()"
   ]
  },
  {
   "cell_type": "markdown",
   "metadata": {},
   "source": [
    "# 4. Isolar regiões do Dataframe\n",
    "## 4.1. Extrair linhas"
   ]
  },
  {
   "cell_type": "code",
   "execution_count": 178,
   "metadata": {},
   "outputs": [
    {
     "data": {
      "text/html": [
       "<div>\n",
       "<style scoped>\n",
       "    .dataframe tbody tr th:only-of-type {\n",
       "        vertical-align: middle;\n",
       "    }\n",
       "\n",
       "    .dataframe tbody tr th {\n",
       "        vertical-align: top;\n",
       "    }\n",
       "\n",
       "    .dataframe thead th {\n",
       "        text-align: right;\n",
       "    }\n",
       "</style>\n",
       "<table border=\"1\" class=\"dataframe\">\n",
       "  <thead>\n",
       "    <tr style=\"text-align: right;\">\n",
       "      <th></th>\n",
       "      <th>tipo</th>\n",
       "      <th>fixed_acidity</th>\n",
       "      <th>volatile_acidity</th>\n",
       "      <th>RATIO2</th>\n",
       "      <th>RATIO4</th>\n",
       "      <th>citric_acid</th>\n",
       "      <th>residual_sugar</th>\n",
       "      <th>free_sulfur_dioxide</th>\n",
       "      <th>total_sulfur_dioxide</th>\n",
       "      <th>density</th>\n",
       "      <th>pH</th>\n",
       "      <th>sulphates</th>\n",
       "      <th>alcohol</th>\n",
       "      <th>X</th>\n",
       "      <th>Y</th>\n",
       "      <th>qualidade</th>\n",
       "      <th>data</th>\n",
       "      <th>RATIO</th>\n",
       "      <th>RATIO5</th>\n",
       "    </tr>\n",
       "  </thead>\n",
       "  <tbody>\n",
       "    <tr>\n",
       "      <th>1</th>\n",
       "      <td>red</td>\n",
       "      <td>7.8</td>\n",
       "      <td>0.88</td>\n",
       "      <td>0.640000</td>\n",
       "      <td>0.199360</td>\n",
       "      <td>0.00</td>\n",
       "      <td>2.6</td>\n",
       "      <td>25.0</td>\n",
       "      <td>67.0</td>\n",
       "      <td>0.9968</td>\n",
       "      <td>3.20</td>\n",
       "      <td>0.68</td>\n",
       "      <td>9.8</td>\n",
       "      <td>-19891.4040703886</td>\n",
       "      <td>200352.226164422</td>\n",
       "      <td>5</td>\n",
       "      <td>2024-01-02</td>\n",
       "      <td>1.960000</td>\n",
       "      <td>NaN</td>\n",
       "    </tr>\n",
       "    <tr>\n",
       "      <th>3</th>\n",
       "      <td>red</td>\n",
       "      <td>11.2</td>\n",
       "      <td>0.28</td>\n",
       "      <td>0.526667</td>\n",
       "      <td>0.166333</td>\n",
       "      <td>0.56</td>\n",
       "      <td>1.9</td>\n",
       "      <td>17.0</td>\n",
       "      <td>60.0</td>\n",
       "      <td>0.9980</td>\n",
       "      <td>3.16</td>\n",
       "      <td>0.58</td>\n",
       "      <td>9.8</td>\n",
       "      <td>-39206.7465441114</td>\n",
       "      <td>233633.249037451</td>\n",
       "      <td>6</td>\n",
       "      <td>2024-01-04</td>\n",
       "      <td>1.633333</td>\n",
       "      <td>6.0</td>\n",
       "    </tr>\n",
       "    <tr>\n",
       "      <th>5</th>\n",
       "      <td>red</td>\n",
       "      <td>7.4</td>\n",
       "      <td>0.66</td>\n",
       "      <td>0.702000</td>\n",
       "      <td>0.199560</td>\n",
       "      <td>0.00</td>\n",
       "      <td>1.8</td>\n",
       "      <td>13.0</td>\n",
       "      <td>40.0</td>\n",
       "      <td>0.9978</td>\n",
       "      <td>3.51</td>\n",
       "      <td>0.56</td>\n",
       "      <td>9.4</td>\n",
       "      <td>-3479.2176020775</td>\n",
       "      <td>202207.494503169</td>\n",
       "      <td>5</td>\n",
       "      <td>2024-01-06</td>\n",
       "      <td>1.880000</td>\n",
       "      <td>NaN</td>\n",
       "    </tr>\n",
       "    <tr>\n",
       "      <th>7</th>\n",
       "      <td>red</td>\n",
       "      <td>7.3</td>\n",
       "      <td>0.65</td>\n",
       "      <td>0.484286</td>\n",
       "      <td>0.142086</td>\n",
       "      <td>0.00</td>\n",
       "      <td>1.2</td>\n",
       "      <td>15.0</td>\n",
       "      <td>21.0</td>\n",
       "      <td>0.9946</td>\n",
       "      <td>3.39</td>\n",
       "      <td>0.47</td>\n",
       "      <td>10.0</td>\n",
       "      <td>-12766.0935988309</td>\n",
       "      <td>199255.687336506</td>\n",
       "      <td>7</td>\n",
       "      <td>2024-01-08</td>\n",
       "      <td>1.428571</td>\n",
       "      <td>7.0</td>\n",
       "    </tr>\n",
       "    <tr>\n",
       "      <th>9</th>\n",
       "      <td>red</td>\n",
       "      <td>7.5</td>\n",
       "      <td>0.50</td>\n",
       "      <td>0.670000</td>\n",
       "      <td>0.199560</td>\n",
       "      <td>0.36</td>\n",
       "      <td>6.1</td>\n",
       "      <td>17.0</td>\n",
       "      <td>102.0</td>\n",
       "      <td>0.9978</td>\n",
       "      <td>3.35</td>\n",
       "      <td>0.80</td>\n",
       "      <td>10.5</td>\n",
       "      <td>-28100.5555818627</td>\n",
       "      <td>262625.236323301</td>\n",
       "      <td>5</td>\n",
       "      <td>2024-01-10</td>\n",
       "      <td>2.100000</td>\n",
       "      <td>NaN</td>\n",
       "    </tr>\n",
       "  </tbody>\n",
       "</table>\n",
       "</div>"
      ],
      "text/plain": [
       "  tipo  fixed_acidity  volatile_acidity    RATIO2    RATIO4  citric_acid  \\\n",
       "1  red            7.8              0.88  0.640000  0.199360         0.00   \n",
       "3  red           11.2              0.28  0.526667  0.166333         0.56   \n",
       "5  red            7.4              0.66  0.702000  0.199560         0.00   \n",
       "7  red            7.3              0.65  0.484286  0.142086         0.00   \n",
       "9  red            7.5              0.50  0.670000  0.199560         0.36   \n",
       "\n",
       "   residual_sugar  free_sulfur_dioxide  total_sulfur_dioxide  density    pH  \\\n",
       "1             2.6                 25.0                  67.0   0.9968  3.20   \n",
       "3             1.9                 17.0                  60.0   0.9980  3.16   \n",
       "5             1.8                 13.0                  40.0   0.9978  3.51   \n",
       "7             1.2                 15.0                  21.0   0.9946  3.39   \n",
       "9             6.1                 17.0                 102.0   0.9978  3.35   \n",
       "\n",
       "   sulphates  alcohol                  X                 Y  qualidade  \\\n",
       "1       0.68      9.8  -19891.4040703886  200352.226164422          5   \n",
       "3       0.58      9.8  -39206.7465441114  233633.249037451          6   \n",
       "5       0.56      9.4   -3479.2176020775  202207.494503169          5   \n",
       "7       0.47     10.0  -12766.0935988309  199255.687336506          7   \n",
       "9       0.80     10.5  -28100.5555818627  262625.236323301          5   \n",
       "\n",
       "        data     RATIO  RATIO5  \n",
       "1 2024-01-02  1.960000     NaN  \n",
       "3 2024-01-04  1.633333     6.0  \n",
       "5 2024-01-06  1.880000     NaN  \n",
       "7 2024-01-08  1.428571     7.0  \n",
       "9 2024-01-10  2.100000     NaN  "
      ]
     },
     "execution_count": 178,
     "metadata": {},
     "output_type": "execute_result"
    }
   ],
   "source": [
    "df1_alt = df1.loc[[1,3,5,7,9]] # [[]] - localizar várias linhas do dataframe\n",
    "\n",
    "df1_alt"
   ]
  },
  {
   "cell_type": "markdown",
   "metadata": {},
   "source": [
    "## 4.2. Extrair colunas"
   ]
  },
  {
   "cell_type": "code",
   "execution_count": 179,
   "metadata": {},
   "outputs": [
    {
     "data": {
      "text/html": [
       "<div>\n",
       "<style scoped>\n",
       "    .dataframe tbody tr th:only-of-type {\n",
       "        vertical-align: middle;\n",
       "    }\n",
       "\n",
       "    .dataframe tbody tr th {\n",
       "        vertical-align: top;\n",
       "    }\n",
       "\n",
       "    .dataframe thead th {\n",
       "        text-align: right;\n",
       "    }\n",
       "</style>\n",
       "<table border=\"1\" class=\"dataframe\">\n",
       "  <thead>\n",
       "    <tr style=\"text-align: right;\">\n",
       "      <th></th>\n",
       "      <th>tipo</th>\n",
       "      <th>fixed_acidity</th>\n",
       "      <th>volatile_acidity</th>\n",
       "      <th>RATIO2</th>\n",
       "      <th>RATIO4</th>\n",
       "      <th>citric_acid</th>\n",
       "      <th>residual_sugar</th>\n",
       "      <th>free_sulfur_dioxide</th>\n",
       "      <th>total_sulfur_dioxide</th>\n",
       "      <th>density</th>\n",
       "      <th>pH</th>\n",
       "      <th>sulphates</th>\n",
       "      <th>alcohol</th>\n",
       "      <th>X</th>\n",
       "      <th>Y</th>\n",
       "      <th>qualidade</th>\n",
       "      <th>data</th>\n",
       "      <th>RATIO</th>\n",
       "      <th>RATIO5</th>\n",
       "    </tr>\n",
       "  </thead>\n",
       "  <tbody>\n",
       "    <tr>\n",
       "      <th>1599</th>\n",
       "      <td>white</td>\n",
       "      <td>7.0</td>\n",
       "      <td>0.27</td>\n",
       "      <td>0.500000</td>\n",
       "      <td>0.166833</td>\n",
       "      <td>0.36</td>\n",
       "      <td>20.7</td>\n",
       "      <td>45.0</td>\n",
       "      <td>170.0</td>\n",
       "      <td>1.00100</td>\n",
       "      <td>3.00</td>\n",
       "      <td>0.45</td>\n",
       "      <td>8.8</td>\n",
       "      <td>20431.6844357746</td>\n",
       "      <td>206608.071241651</td>\n",
       "      <td>6</td>\n",
       "      <td>2028-05-18</td>\n",
       "      <td>1.466667</td>\n",
       "      <td>6.0</td>\n",
       "    </tr>\n",
       "    <tr>\n",
       "      <th>1600</th>\n",
       "      <td>white</td>\n",
       "      <td>6.3</td>\n",
       "      <td>0.30</td>\n",
       "      <td>0.550000</td>\n",
       "      <td>0.165667</td>\n",
       "      <td>0.34</td>\n",
       "      <td>1.6</td>\n",
       "      <td>14.0</td>\n",
       "      <td>132.0</td>\n",
       "      <td>0.99400</td>\n",
       "      <td>3.30</td>\n",
       "      <td>0.49</td>\n",
       "      <td>9.5</td>\n",
       "      <td>-38245.8489835402</td>\n",
       "      <td>238954.521661056</td>\n",
       "      <td>6</td>\n",
       "      <td>2028-05-19</td>\n",
       "      <td>1.583333</td>\n",
       "      <td>6.0</td>\n",
       "    </tr>\n",
       "    <tr>\n",
       "      <th>1601</th>\n",
       "      <td>white</td>\n",
       "      <td>8.1</td>\n",
       "      <td>0.28</td>\n",
       "      <td>0.543333</td>\n",
       "      <td>0.165850</td>\n",
       "      <td>0.40</td>\n",
       "      <td>6.9</td>\n",
       "      <td>30.0</td>\n",
       "      <td>97.0</td>\n",
       "      <td>0.99510</td>\n",
       "      <td>3.26</td>\n",
       "      <td>0.44</td>\n",
       "      <td>10.1</td>\n",
       "      <td>-22958.9002229277</td>\n",
       "      <td>218458.297086741</td>\n",
       "      <td>6</td>\n",
       "      <td>2028-05-20</td>\n",
       "      <td>1.683333</td>\n",
       "      <td>6.0</td>\n",
       "    </tr>\n",
       "    <tr>\n",
       "      <th>1602</th>\n",
       "      <td>white</td>\n",
       "      <td>7.2</td>\n",
       "      <td>0.23</td>\n",
       "      <td>0.531667</td>\n",
       "      <td>0.165933</td>\n",
       "      <td>0.32</td>\n",
       "      <td>8.5</td>\n",
       "      <td>47.0</td>\n",
       "      <td>186.0</td>\n",
       "      <td>0.99560</td>\n",
       "      <td>3.19</td>\n",
       "      <td>0.40</td>\n",
       "      <td>9.9</td>\n",
       "      <td>-27705.0725091172</td>\n",
       "      <td>263860.01890105</td>\n",
       "      <td>6</td>\n",
       "      <td>2028-05-21</td>\n",
       "      <td>1.650000</td>\n",
       "      <td>6.0</td>\n",
       "    </tr>\n",
       "    <tr>\n",
       "      <th>1603</th>\n",
       "      <td>white</td>\n",
       "      <td>7.2</td>\n",
       "      <td>0.23</td>\n",
       "      <td>0.531667</td>\n",
       "      <td>0.165933</td>\n",
       "      <td>0.32</td>\n",
       "      <td>8.5</td>\n",
       "      <td>47.0</td>\n",
       "      <td>186.0</td>\n",
       "      <td>0.99560</td>\n",
       "      <td>3.19</td>\n",
       "      <td>0.40</td>\n",
       "      <td>9.9</td>\n",
       "      <td>-31405.0183466159</td>\n",
       "      <td>261329.136279726</td>\n",
       "      <td>6</td>\n",
       "      <td>2028-05-22</td>\n",
       "      <td>1.650000</td>\n",
       "      <td>6.0</td>\n",
       "    </tr>\n",
       "    <tr>\n",
       "      <th>...</th>\n",
       "      <td>...</td>\n",
       "      <td>...</td>\n",
       "      <td>...</td>\n",
       "      <td>...</td>\n",
       "      <td>...</td>\n",
       "      <td>...</td>\n",
       "      <td>...</td>\n",
       "      <td>...</td>\n",
       "      <td>...</td>\n",
       "      <td>...</td>\n",
       "      <td>...</td>\n",
       "      <td>...</td>\n",
       "      <td>...</td>\n",
       "      <td>...</td>\n",
       "      <td>...</td>\n",
       "      <td>...</td>\n",
       "      <td>...</td>\n",
       "      <td>...</td>\n",
       "      <td>...</td>\n",
       "    </tr>\n",
       "    <tr>\n",
       "      <th>6492</th>\n",
       "      <td>white</td>\n",
       "      <td>6.2</td>\n",
       "      <td>0.21</td>\n",
       "      <td>0.545000</td>\n",
       "      <td>0.165190</td>\n",
       "      <td>0.29</td>\n",
       "      <td>1.6</td>\n",
       "      <td>24.0</td>\n",
       "      <td>92.0</td>\n",
       "      <td>0.99114</td>\n",
       "      <td>3.27</td>\n",
       "      <td>0.50</td>\n",
       "      <td>11.2</td>\n",
       "      <td>-11906.6861194485</td>\n",
       "      <td>220458.424714939</td>\n",
       "      <td>6</td>\n",
       "      <td>2041-10-10</td>\n",
       "      <td>1.866667</td>\n",
       "      <td>6.0</td>\n",
       "    </tr>\n",
       "    <tr>\n",
       "      <th>6493</th>\n",
       "      <td>white</td>\n",
       "      <td>6.6</td>\n",
       "      <td>0.32</td>\n",
       "      <td>0.630000</td>\n",
       "      <td>0.198980</td>\n",
       "      <td>0.36</td>\n",
       "      <td>8.0</td>\n",
       "      <td>57.0</td>\n",
       "      <td>168.0</td>\n",
       "      <td>0.99490</td>\n",
       "      <td>3.15</td>\n",
       "      <td>0.46</td>\n",
       "      <td>9.6</td>\n",
       "      <td>-40305.1380007777</td>\n",
       "      <td>222811.809785306</td>\n",
       "      <td>5</td>\n",
       "      <td>2041-10-11</td>\n",
       "      <td>1.920000</td>\n",
       "      <td>NaN</td>\n",
       "    </tr>\n",
       "    <tr>\n",
       "      <th>6494</th>\n",
       "      <td>white</td>\n",
       "      <td>6.5</td>\n",
       "      <td>0.24</td>\n",
       "      <td>0.498333</td>\n",
       "      <td>0.165423</td>\n",
       "      <td>0.19</td>\n",
       "      <td>1.2</td>\n",
       "      <td>30.0</td>\n",
       "      <td>111.0</td>\n",
       "      <td>0.99254</td>\n",
       "      <td>2.99</td>\n",
       "      <td>0.46</td>\n",
       "      <td>9.4</td>\n",
       "      <td>-20915.4897544456</td>\n",
       "      <td>216220.323941388</td>\n",
       "      <td>6</td>\n",
       "      <td>2041-10-12</td>\n",
       "      <td>1.566667</td>\n",
       "      <td>6.0</td>\n",
       "    </tr>\n",
       "    <tr>\n",
       "      <th>6495</th>\n",
       "      <td>white</td>\n",
       "      <td>5.5</td>\n",
       "      <td>0.29</td>\n",
       "      <td>0.477143</td>\n",
       "      <td>0.141241</td>\n",
       "      <td>0.30</td>\n",
       "      <td>1.1</td>\n",
       "      <td>20.0</td>\n",
       "      <td>110.0</td>\n",
       "      <td>0.98869</td>\n",
       "      <td>3.34</td>\n",
       "      <td>0.38</td>\n",
       "      <td>12.8</td>\n",
       "      <td>-28367.0710055546</td>\n",
       "      <td>194490.884342699</td>\n",
       "      <td>7</td>\n",
       "      <td>2041-10-13</td>\n",
       "      <td>1.828571</td>\n",
       "      <td>7.0</td>\n",
       "    </tr>\n",
       "    <tr>\n",
       "      <th>6496</th>\n",
       "      <td>white</td>\n",
       "      <td>6.0</td>\n",
       "      <td>0.21</td>\n",
       "      <td>0.543333</td>\n",
       "      <td>0.164902</td>\n",
       "      <td>0.38</td>\n",
       "      <td>0.8</td>\n",
       "      <td>22.0</td>\n",
       "      <td>98.0</td>\n",
       "      <td>0.98941</td>\n",
       "      <td>3.26</td>\n",
       "      <td>0.32</td>\n",
       "      <td>11.8</td>\n",
       "      <td>-16086.8958958209</td>\n",
       "      <td>200685.486935819</td>\n",
       "      <td>6</td>\n",
       "      <td>2041-10-14</td>\n",
       "      <td>1.966667</td>\n",
       "      <td>6.0</td>\n",
       "    </tr>\n",
       "  </tbody>\n",
       "</table>\n",
       "<p>4898 rows × 19 columns</p>\n",
       "</div>"
      ],
      "text/plain": [
       "       tipo  fixed_acidity  volatile_acidity    RATIO2    RATIO4  citric_acid  \\\n",
       "1599  white            7.0              0.27  0.500000  0.166833         0.36   \n",
       "1600  white            6.3              0.30  0.550000  0.165667         0.34   \n",
       "1601  white            8.1              0.28  0.543333  0.165850         0.40   \n",
       "1602  white            7.2              0.23  0.531667  0.165933         0.32   \n",
       "1603  white            7.2              0.23  0.531667  0.165933         0.32   \n",
       "...     ...            ...               ...       ...       ...          ...   \n",
       "6492  white            6.2              0.21  0.545000  0.165190         0.29   \n",
       "6493  white            6.6              0.32  0.630000  0.198980         0.36   \n",
       "6494  white            6.5              0.24  0.498333  0.165423         0.19   \n",
       "6495  white            5.5              0.29  0.477143  0.141241         0.30   \n",
       "6496  white            6.0              0.21  0.543333  0.164902         0.38   \n",
       "\n",
       "      residual_sugar  free_sulfur_dioxide  total_sulfur_dioxide  density  \\\n",
       "1599            20.7                 45.0                 170.0  1.00100   \n",
       "1600             1.6                 14.0                 132.0  0.99400   \n",
       "1601             6.9                 30.0                  97.0  0.99510   \n",
       "1602             8.5                 47.0                 186.0  0.99560   \n",
       "1603             8.5                 47.0                 186.0  0.99560   \n",
       "...              ...                  ...                   ...      ...   \n",
       "6492             1.6                 24.0                  92.0  0.99114   \n",
       "6493             8.0                 57.0                 168.0  0.99490   \n",
       "6494             1.2                 30.0                 111.0  0.99254   \n",
       "6495             1.1                 20.0                 110.0  0.98869   \n",
       "6496             0.8                 22.0                  98.0  0.98941   \n",
       "\n",
       "        pH  sulphates  alcohol                  X                 Y  \\\n",
       "1599  3.00       0.45      8.8   20431.6844357746  206608.071241651   \n",
       "1600  3.30       0.49      9.5  -38245.8489835402  238954.521661056   \n",
       "1601  3.26       0.44     10.1  -22958.9002229277  218458.297086741   \n",
       "1602  3.19       0.40      9.9  -27705.0725091172   263860.01890105   \n",
       "1603  3.19       0.40      9.9  -31405.0183466159  261329.136279726   \n",
       "...    ...        ...      ...                ...               ...   \n",
       "6492  3.27       0.50     11.2  -11906.6861194485  220458.424714939   \n",
       "6493  3.15       0.46      9.6  -40305.1380007777  222811.809785306   \n",
       "6494  2.99       0.46      9.4  -20915.4897544456  216220.323941388   \n",
       "6495  3.34       0.38     12.8  -28367.0710055546  194490.884342699   \n",
       "6496  3.26       0.32     11.8  -16086.8958958209  200685.486935819   \n",
       "\n",
       "      qualidade       data     RATIO  RATIO5  \n",
       "1599          6 2028-05-18  1.466667     6.0  \n",
       "1600          6 2028-05-19  1.583333     6.0  \n",
       "1601          6 2028-05-20  1.683333     6.0  \n",
       "1602          6 2028-05-21  1.650000     6.0  \n",
       "1603          6 2028-05-22  1.650000     6.0  \n",
       "...         ...        ...       ...     ...  \n",
       "6492          6 2041-10-10  1.866667     6.0  \n",
       "6493          5 2041-10-11  1.920000     NaN  \n",
       "6494          6 2041-10-12  1.566667     6.0  \n",
       "6495          7 2041-10-13  1.828571     7.0  \n",
       "6496          6 2041-10-14  1.966667     6.0  \n",
       "\n",
       "[4898 rows x 19 columns]"
      ]
     },
     "execution_count": 179,
     "metadata": {},
     "output_type": "execute_result"
    }
   ],
   "source": [
    "df1_alt2 = df1.loc[df1['tipo'] == 'white']\n",
    "\n",
    "df1_alt2"
   ]
  },
  {
   "cell_type": "code",
   "execution_count": 180,
   "metadata": {},
   "outputs": [
    {
     "data": {
      "text/html": [
       "<div>\n",
       "<style scoped>\n",
       "    .dataframe tbody tr th:only-of-type {\n",
       "        vertical-align: middle;\n",
       "    }\n",
       "\n",
       "    .dataframe tbody tr th {\n",
       "        vertical-align: top;\n",
       "    }\n",
       "\n",
       "    .dataframe thead th {\n",
       "        text-align: right;\n",
       "    }\n",
       "</style>\n",
       "<table border=\"1\" class=\"dataframe\">\n",
       "  <thead>\n",
       "    <tr style=\"text-align: right;\">\n",
       "      <th></th>\n",
       "      <th>qualidade</th>\n",
       "      <th>alcohol</th>\n",
       "    </tr>\n",
       "  </thead>\n",
       "  <tbody>\n",
       "    <tr>\n",
       "      <th>1599</th>\n",
       "      <td>6</td>\n",
       "      <td>8.8</td>\n",
       "    </tr>\n",
       "    <tr>\n",
       "      <th>1600</th>\n",
       "      <td>6</td>\n",
       "      <td>9.5</td>\n",
       "    </tr>\n",
       "    <tr>\n",
       "      <th>1601</th>\n",
       "      <td>6</td>\n",
       "      <td>10.1</td>\n",
       "    </tr>\n",
       "    <tr>\n",
       "      <th>1602</th>\n",
       "      <td>6</td>\n",
       "      <td>9.9</td>\n",
       "    </tr>\n",
       "    <tr>\n",
       "      <th>1603</th>\n",
       "      <td>6</td>\n",
       "      <td>9.9</td>\n",
       "    </tr>\n",
       "    <tr>\n",
       "      <th>...</th>\n",
       "      <td>...</td>\n",
       "      <td>...</td>\n",
       "    </tr>\n",
       "    <tr>\n",
       "      <th>6492</th>\n",
       "      <td>6</td>\n",
       "      <td>11.2</td>\n",
       "    </tr>\n",
       "    <tr>\n",
       "      <th>6493</th>\n",
       "      <td>5</td>\n",
       "      <td>9.6</td>\n",
       "    </tr>\n",
       "    <tr>\n",
       "      <th>6494</th>\n",
       "      <td>6</td>\n",
       "      <td>9.4</td>\n",
       "    </tr>\n",
       "    <tr>\n",
       "      <th>6495</th>\n",
       "      <td>7</td>\n",
       "      <td>12.8</td>\n",
       "    </tr>\n",
       "    <tr>\n",
       "      <th>6496</th>\n",
       "      <td>6</td>\n",
       "      <td>11.8</td>\n",
       "    </tr>\n",
       "  </tbody>\n",
       "</table>\n",
       "<p>4898 rows × 2 columns</p>\n",
       "</div>"
      ],
      "text/plain": [
       "      qualidade  alcohol\n",
       "1599          6      8.8\n",
       "1600          6      9.5\n",
       "1601          6     10.1\n",
       "1602          6      9.9\n",
       "1603          6      9.9\n",
       "...         ...      ...\n",
       "6492          6     11.2\n",
       "6493          5      9.6\n",
       "6494          6      9.4\n",
       "6495          7     12.8\n",
       "6496          6     11.8\n",
       "\n",
       "[4898 rows x 2 columns]"
      ]
     },
     "execution_count": 180,
     "metadata": {},
     "output_type": "execute_result"
    }
   ],
   "source": [
    "df1_alt3 = df1.loc[(df1['tipo'] == 'white'), ('qualidade','alcohol')]\n",
    "\n",
    "df1_alt3"
   ]
  },
  {
   "cell_type": "markdown",
   "metadata": {},
   "source": [
    "## 4.3. Agrupar por valores e obter dados estatisticos"
   ]
  },
  {
   "cell_type": "code",
   "execution_count": 183,
   "metadata": {},
   "outputs": [
    {
     "data": {
      "text/html": [
       "<div>\n",
       "<style scoped>\n",
       "    .dataframe tbody tr th:only-of-type {\n",
       "        vertical-align: middle;\n",
       "    }\n",
       "\n",
       "    .dataframe tbody tr th {\n",
       "        vertical-align: top;\n",
       "    }\n",
       "\n",
       "    .dataframe thead th {\n",
       "        text-align: right;\n",
       "    }\n",
       "</style>\n",
       "<table border=\"1\" class=\"dataframe\">\n",
       "  <thead>\n",
       "    <tr style=\"text-align: right;\">\n",
       "      <th></th>\n",
       "      <th>fixed_acidity</th>\n",
       "      <th>volatile_acidity</th>\n",
       "      <th>RATIO2</th>\n",
       "      <th>RATIO4</th>\n",
       "      <th>citric_acid</th>\n",
       "      <th>residual_sugar</th>\n",
       "      <th>free_sulfur_dioxide</th>\n",
       "      <th>total_sulfur_dioxide</th>\n",
       "      <th>density</th>\n",
       "      <th>pH</th>\n",
       "      <th>sulphates</th>\n",
       "      <th>alcohol</th>\n",
       "      <th>qualidade</th>\n",
       "      <th>RATIO</th>\n",
       "      <th>RATIO5</th>\n",
       "    </tr>\n",
       "    <tr>\n",
       "      <th>tipo</th>\n",
       "      <th></th>\n",
       "      <th></th>\n",
       "      <th></th>\n",
       "      <th></th>\n",
       "      <th></th>\n",
       "      <th></th>\n",
       "      <th></th>\n",
       "      <th></th>\n",
       "      <th></th>\n",
       "      <th></th>\n",
       "      <th></th>\n",
       "      <th></th>\n",
       "      <th></th>\n",
       "      <th></th>\n",
       "      <th></th>\n",
       "    </tr>\n",
       "  </thead>\n",
       "  <tbody>\n",
       "    <tr>\n",
       "      <th>red</th>\n",
       "      <td>8.320213</td>\n",
       "      <td>0.527730</td>\n",
       "      <td>0.600305</td>\n",
       "      <td>0.180587</td>\n",
       "      <td>0.271145</td>\n",
       "      <td>2.539355</td>\n",
       "      <td>15.882905</td>\n",
       "      <td>46.475594</td>\n",
       "      <td>0.996747</td>\n",
       "      <td>3.310989</td>\n",
       "      <td>0.658210</td>\n",
       "      <td>10.423623</td>\n",
       "      <td>5.636421</td>\n",
       "      <td>1.876784</td>\n",
       "      <td>6.274854</td>\n",
       "    </tr>\n",
       "    <tr>\n",
       "      <th>white</th>\n",
       "      <td>6.854788</td>\n",
       "      <td>0.278241</td>\n",
       "      <td>0.555067</td>\n",
       "      <td>0.173195</td>\n",
       "      <td>0.334192</td>\n",
       "      <td>6.391415</td>\n",
       "      <td>35.308085</td>\n",
       "      <td>138.360657</td>\n",
       "      <td>0.994027</td>\n",
       "      <td>3.188267</td>\n",
       "      <td>0.489847</td>\n",
       "      <td>10.514267</td>\n",
       "      <td>5.877909</td>\n",
       "      <td>1.818192</td>\n",
       "      <td>6.382136</td>\n",
       "    </tr>\n",
       "  </tbody>\n",
       "</table>\n",
       "</div>"
      ],
      "text/plain": [
       "       fixed_acidity  volatile_acidity    RATIO2    RATIO4  citric_acid  \\\n",
       "tipo                                                                      \n",
       "red         8.320213          0.527730  0.600305  0.180587     0.271145   \n",
       "white       6.854788          0.278241  0.555067  0.173195     0.334192   \n",
       "\n",
       "       residual_sugar  free_sulfur_dioxide  total_sulfur_dioxide   density  \\\n",
       "tipo                                                                         \n",
       "red          2.539355            15.882905             46.475594  0.996747   \n",
       "white        6.391415            35.308085            138.360657  0.994027   \n",
       "\n",
       "             pH  sulphates    alcohol  qualidade     RATIO    RATIO5  \n",
       "tipo                                                                  \n",
       "red    3.310989   0.658210  10.423623   5.636421  1.876784  6.274854  \n",
       "white  3.188267   0.489847  10.514267   5.877909  1.818192  6.382136  "
      ]
     },
     "execution_count": 183,
     "metadata": {},
     "output_type": "execute_result"
    }
   ],
   "source": [
    "df1.groupby(['tipo']).mean(numeric_only=True)"
   ]
  },
  {
   "cell_type": "code",
   "execution_count": 184,
   "metadata": {},
   "outputs": [
    {
     "data": {
      "text/html": [
       "<div>\n",
       "<style scoped>\n",
       "    .dataframe tbody tr th:only-of-type {\n",
       "        vertical-align: middle;\n",
       "    }\n",
       "\n",
       "    .dataframe tbody tr th {\n",
       "        vertical-align: top;\n",
       "    }\n",
       "\n",
       "    .dataframe thead th {\n",
       "        text-align: right;\n",
       "    }\n",
       "</style>\n",
       "<table border=\"1\" class=\"dataframe\">\n",
       "  <thead>\n",
       "    <tr style=\"text-align: right;\">\n",
       "      <th></th>\n",
       "      <th>fixed_acidity</th>\n",
       "      <th>volatile_acidity</th>\n",
       "      <th>RATIO2</th>\n",
       "      <th>RATIO4</th>\n",
       "      <th>citric_acid</th>\n",
       "      <th>residual_sugar</th>\n",
       "      <th>free_sulfur_dioxide</th>\n",
       "      <th>total_sulfur_dioxide</th>\n",
       "      <th>density</th>\n",
       "      <th>pH</th>\n",
       "      <th>sulphates</th>\n",
       "      <th>alcohol</th>\n",
       "      <th>qualidade</th>\n",
       "      <th>RATIO</th>\n",
       "      <th>RATIO5</th>\n",
       "    </tr>\n",
       "    <tr>\n",
       "      <th>tipo</th>\n",
       "      <th></th>\n",
       "      <th></th>\n",
       "      <th></th>\n",
       "      <th></th>\n",
       "      <th></th>\n",
       "      <th></th>\n",
       "      <th></th>\n",
       "      <th></th>\n",
       "      <th></th>\n",
       "      <th></th>\n",
       "      <th></th>\n",
       "      <th></th>\n",
       "      <th></th>\n",
       "      <th></th>\n",
       "      <th></th>\n",
       "    </tr>\n",
       "  </thead>\n",
       "  <tbody>\n",
       "    <tr>\n",
       "      <th>red</th>\n",
       "      <td>1.741489</td>\n",
       "      <td>0.179119</td>\n",
       "      <td>0.097701</td>\n",
       "      <td>0.027412</td>\n",
       "      <td>0.194744</td>\n",
       "      <td>1.410708</td>\n",
       "      <td>10.464138</td>\n",
       "      <td>32.904142</td>\n",
       "      <td>0.001889</td>\n",
       "      <td>0.154355</td>\n",
       "      <td>0.169542</td>\n",
       "      <td>1.065694</td>\n",
       "      <td>0.807665</td>\n",
       "      <td>0.269424</td>\n",
       "      <td>0.491627</td>\n",
       "    </tr>\n",
       "    <tr>\n",
       "      <th>white</th>\n",
       "      <td>0.843868</td>\n",
       "      <td>0.100795</td>\n",
       "      <td>0.091081</td>\n",
       "      <td>0.028001</td>\n",
       "      <td>0.121020</td>\n",
       "      <td>5.072058</td>\n",
       "      <td>17.007137</td>\n",
       "      <td>42.498065</td>\n",
       "      <td>0.002991</td>\n",
       "      <td>0.151001</td>\n",
       "      <td>0.114126</td>\n",
       "      <td>1.230621</td>\n",
       "      <td>0.885639</td>\n",
       "      <td>0.285731</td>\n",
       "      <td>0.594014</td>\n",
       "    </tr>\n",
       "  </tbody>\n",
       "</table>\n",
       "</div>"
      ],
      "text/plain": [
       "       fixed_acidity  volatile_acidity    RATIO2    RATIO4  citric_acid  \\\n",
       "tipo                                                                      \n",
       "red         1.741489          0.179119  0.097701  0.027412     0.194744   \n",
       "white       0.843868          0.100795  0.091081  0.028001     0.121020   \n",
       "\n",
       "       residual_sugar  free_sulfur_dioxide  total_sulfur_dioxide   density  \\\n",
       "tipo                                                                         \n",
       "red          1.410708            10.464138             32.904142  0.001889   \n",
       "white        5.072058            17.007137             42.498065  0.002991   \n",
       "\n",
       "             pH  sulphates   alcohol  qualidade     RATIO    RATIO5  \n",
       "tipo                                                                 \n",
       "red    0.154355   0.169542  1.065694   0.807665  0.269424  0.491627  \n",
       "white  0.151001   0.114126  1.230621   0.885639  0.285731  0.594014  "
      ]
     },
     "execution_count": 184,
     "metadata": {},
     "output_type": "execute_result"
    }
   ],
   "source": [
    "df1.groupby(['tipo']).std(numeric_only=True)"
   ]
  },
  {
   "cell_type": "markdown",
   "metadata": {},
   "source": [
    "# 5. Gráficos de dispersão"
   ]
  },
  {
   "cell_type": "code",
   "execution_count": 186,
   "metadata": {},
   "outputs": [],
   "source": [
    "df1.drop('data',axis = 1, inplace=True)"
   ]
  },
  {
   "cell_type": "code",
   "execution_count": 187,
   "metadata": {},
   "outputs": [
    {
     "data": {
      "text/plain": [
       "<Axes: >"
      ]
     },
     "execution_count": 187,
     "metadata": {},
     "output_type": "execute_result"
    },
    {
     "data": {
      "image/png": "[encoded data removed]",
      "text/plain": [
       "<Figure size 640x480 with 1 Axes>"
      ]
     },
     "metadata": {},
     "output_type": "display_data"
    }
   ],
   "source": [
    "df1.plot()"
   ]
  },
  {
   "cell_type": "code",
   "execution_count": 188,
   "metadata": {},
   "outputs": [
    {
     "data": {
      "text/plain": [
       "<Axes: >"
      ]
     },
     "execution_count": 188,
     "metadata": {},
     "output_type": "execute_result"
    },
    {
     "data": {
      "image/png": "[encoded data removed]",
      "text/plain": [
       "<Figure size 640x480 with 1 Axes>"
      ]
     },
     "metadata": {},
     "output_type": "display_data"
    }
   ],
   "source": [
    "df1[['alcohol','qualidade']].plot()"
   ]
  },
  {
   "cell_type": "markdown",
   "metadata": {},
   "source": [
    "# 6. Histograma"
   ]
  },
  {
   "cell_type": "code",
   "execution_count": 189,
   "metadata": {},
   "outputs": [
    {
     "data": {
      "text/plain": [
       "array([[<Axes: title={'center': 'fixed_acidity'}>,\n",
       "        <Axes: title={'center': 'volatile_acidity'}>,\n",
       "        <Axes: title={'center': 'RATIO2'}>,\n",
       "        <Axes: title={'center': 'RATIO4'}>],\n",
       "       [<Axes: title={'center': 'citric_acid'}>,\n",
       "        <Axes: title={'center': 'residual_sugar'}>,\n",
       "        <Axes: title={'center': 'free_sulfur_dioxide'}>,\n",
       "        <Axes: title={'center': 'total_sulfur_dioxide'}>],\n",
       "       [<Axes: title={'center': 'density'}>,\n",
       "        <Axes: title={'center': 'pH'}>,\n",
       "        <Axes: title={'center': 'sulphates'}>,\n",
       "        <Axes: title={'center': 'alcohol'}>],\n",
       "       [<Axes: title={'center': 'qualidade'}>,\n",
       "        <Axes: title={'center': 'RATIO'}>,\n",
       "        <Axes: title={'center': 'RATIO5'}>, <Axes: >]], dtype=object)"
      ]
     },
     "execution_count": 189,
     "metadata": {},
     "output_type": "execute_result"
    },
    {
     "data": {
      "image/png": "[encoded data removed]",
      "text/plain": [
       "<Figure size 640x480 with 16 Axes>"
      ]
     },
     "metadata": {},
     "output_type": "display_data"
    }
   ],
   "source": [
    "df1.hist()"
   ]
  },
  {
   "cell_type": "code",
   "execution_count": 190,
   "metadata": {},
   "outputs": [
    {
     "data": {
      "text/plain": [
       "<Axes: ylabel='Frequency'>"
      ]
     },
     "execution_count": 190,
     "metadata": {},
     "output_type": "execute_result"
    },
    {
     "data": {
      "image/png": "[encoded data removed]",
      "text/plain": [
       "<Figure size 640x480 with 1 Axes>"
      ]
     },
     "metadata": {},
     "output_type": "display_data"
    }
   ],
   "source": [
    "df1.plot.hist()"
   ]
  },
  {
   "cell_type": "code",
   "execution_count": 191,
   "metadata": {},
   "outputs": [
    {
     "data": {
      "text/plain": [
       "<Axes: ylabel='Frequency'>"
      ]
     },
     "execution_count": 191,
     "metadata": {},
     "output_type": "execute_result"
    },
    {
     "data": {
      "image/png": "[encoded data removed]",
      "text/plain": [
       "<Figure size 640x480 with 1 Axes>"
      ]
     },
     "metadata": {},
     "output_type": "display_data"
    }
   ],
   "source": [
    "df1[['alcohol','qualidade']].plot.hist()"
   ]
  },
  {
   "cell_type": "markdown",
   "metadata": {},
   "source": [
    "# 7. Scatter plot"
   ]
  },
  {
   "cell_type": "code",
   "execution_count": 192,
   "metadata": {},
   "outputs": [
    {
     "data": {
      "text/plain": [
       "<Axes: xlabel='alcohol', ylabel='qualidade'>"
      ]
     },
     "execution_count": 192,
     "metadata": {},
     "output_type": "execute_result"
    },
    {
     "data": {
      "image/png": "[encoded data removed]",
      "text/plain": [
       "<Figure size 640x480 with 1 Axes>"
      ]
     },
     "metadata": {},
     "output_type": "display_data"
    }
   ],
   "source": [
    "df1.plot.scatter(x = 'alcohol',y='qualidade')"
   ]
  },
  {
   "cell_type": "code",
   "execution_count": 193,
   "metadata": {},
   "outputs": [
    {
     "data": {
      "text/plain": [
       "<Axes: xlabel='alcohol', ylabel='qualidade'>"
      ]
     },
     "execution_count": 193,
     "metadata": {},
     "output_type": "execute_result"
    },
    {
     "data": {
      "image/png": "[encoded data removed]",
      "text/plain": [
       "<Figure size 640x480 with 1 Axes>"
      ]
     },
     "metadata": {},
     "output_type": "display_data"
    }
   ],
   "source": [
    "df1.plot.scatter(x = 'alcohol',\n",
    "                 y='qualidade',\n",
    "                 c ='green',\n",
    "                 grid = 'on')"
   ]
  }
 ],
 "metadata": {
  "kernelspec": {
   "display_name": "UFCD_10793_04_AG",
   "language": "python",
   "name": "python3"
  },
  "language_info": {
   "codemirror_mode": {
    "name": "ipython",
    "version": 3
   },
   "file_extension": ".py",
   "mimetype": "text/x-python",
   "name": "python",
   "nbconvert_exporter": "python",
   "pygments_lexer": "ipython3",
   "version": "3.11.7"
  }
 },
 "nbformat": 4,
 "nbformat_minor": 2
}
